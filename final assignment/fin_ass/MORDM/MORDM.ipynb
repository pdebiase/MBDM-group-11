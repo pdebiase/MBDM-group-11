{
 "cells": [
  {
   "cell_type": "markdown",
   "metadata": {},
   "source": [
    "# MORDM \n",
    "- a) Perform MORDM to discover the worst case scenario\n",
    "- b) Apply MORDM with the worst case scenario to find optimal policies and analyze them"
   ]
  },
  {
   "cell_type": "code",
   "execution_count": 1,
   "metadata": {},
   "outputs": [
    {
     "name": "stderr",
     "output_type": "stream",
     "text": [
      "C:\\ProgramData\\Anaconda3\\lib\\importlib\\_bootstrap.py:219: ImportWarning: can't resolve package from __spec__ or __package__, falling back on __name__ and __path__\n",
      "  return f(*args, **kwds)\n",
      "C:\\ProgramData\\Anaconda3\\lib\\importlib\\_bootstrap.py:219: ImportWarning: can't resolve package from __spec__ or __package__, falling back on __name__ and __path__\n",
      "  return f(*args, **kwds)\n",
      "C:\\ProgramData\\Anaconda3\\lib\\importlib\\_bootstrap.py:219: ImportWarning: can't resolve package from __spec__ or __package__, falling back on __name__ and __path__\n",
      "  return f(*args, **kwds)\n"
     ]
    },
    {
     "data": {
      "text/plain": [
       "<Logger EMA (DEBUG)>"
      ]
     },
     "execution_count": 1,
     "metadata": {},
     "output_type": "execute_result"
    }
   ],
   "source": [
    "import time, itertools\n",
    "import numpy as np\n",
    "import pandas as pd\n",
    "\n",
    "import matplotlib.pyplot as plt\n",
    "import seaborn as sns\n",
    "\n",
    "\n",
    "%matplotlib inline\n",
    "\n",
    "#from custom_funcs import *\n",
    "\n",
    "from ema_workbench import (Model, IntegerParameter, RealParameter, CategoricalParameter, Constant,\n",
    "                           ScalarOutcome, MultiprocessingEvaluator, Policy, Scenario)\n",
    "\n",
    "from ema_workbench.em_framework.evaluators import perform_experiments\n",
    "from ema_workbench.em_framework.samplers import sample_uncertainties\n",
    "from ema_workbench.em_framework.optimization import EpsilonProgress, HyperVolume\n",
    "from ema_workbench.util import ema_logging, save_results, load_results\n",
    "from ema_workbench.analysis import prim, feature_scoring\n",
    "from ema_workbench.em_framework.salib_samplers import get_SALib_problem\n",
    "from SALib.analyze import sobol\n",
    "from problem_formulation import get_model_for_problem_formulation\n",
    "ema_logging.log_to_stderr(ema_logging.INFO)"
   ]
  },
  {
   "cell_type": "code",
   "execution_count": 2,
   "metadata": {},
   "outputs": [],
   "source": [
    "problem_formulation_id = 2\n",
    "dike_model,planning_steps = get_model_for_problem_formulation(problem_formulation_id)"
   ]
  },
  {
   "cell_type": "code",
   "execution_count": 6,
   "metadata": {},
   "outputs": [
    {
     "name": "stderr",
     "output_type": "stream",
     "text": [
      "[MainProcess/INFO] pool started\n",
      "[MainProcess/INFO] generation 0: 0/6000 nfe\n",
      "[MainProcess/INFO] generation 1: 100/6000 nfe\n",
      "[MainProcess/INFO] generation 2: 200/6000 nfe\n",
      "[MainProcess/INFO] generation 3: 300/6000 nfe\n",
      "[MainProcess/INFO] generation 4: 400/6000 nfe\n",
      "[MainProcess/INFO] generation 5: 500/6000 nfe\n",
      "[MainProcess/INFO] generation 6: 600/6000 nfe\n",
      "[MainProcess/INFO] generation 7: 700/6000 nfe\n",
      "[MainProcess/INFO] generation 8: 800/6000 nfe\n",
      "[MainProcess/INFO] generation 9: 900/6000 nfe\n",
      "[MainProcess/INFO] generation 10: 1000/6000 nfe\n",
      "[MainProcess/INFO] generation 11: 1100/6000 nfe\n",
      "[MainProcess/INFO] generation 12: 1200/6000 nfe\n",
      "[MainProcess/INFO] generation 13: 1300/6000 nfe\n",
      "[MainProcess/INFO] generation 14: 1400/6000 nfe\n",
      "[MainProcess/INFO] generation 15: 1500/6000 nfe\n",
      "[MainProcess/INFO] generation 16: 1600/6000 nfe\n",
      "[MainProcess/INFO] generation 17: 1700/6000 nfe\n",
      "[MainProcess/INFO] generation 18: 1800/6000 nfe\n",
      "[MainProcess/INFO] generation 19: 1900/6000 nfe\n",
      "[MainProcess/INFO] generation 20: 2000/6000 nfe\n",
      "[MainProcess/INFO] generation 21: 2100/6000 nfe\n",
      "[MainProcess/INFO] generation 22: 2200/6000 nfe\n",
      "[MainProcess/INFO] generation 23: 2300/6000 nfe\n",
      "[MainProcess/INFO] generation 24: 2400/6000 nfe\n",
      "[MainProcess/INFO] generation 25: 2500/6000 nfe\n",
      "[MainProcess/INFO] generation 26: 2600/6000 nfe\n",
      "[MainProcess/INFO] generation 27: 2700/6000 nfe\n",
      "[MainProcess/INFO] generation 28: 2800/6000 nfe\n",
      "[MainProcess/INFO] generation 29: 2900/6000 nfe\n",
      "[MainProcess/INFO] generation 30: 3000/6000 nfe\n",
      "[MainProcess/INFO] generation 31: 3100/6000 nfe\n",
      "[MainProcess/INFO] generation 32: 3200/6000 nfe\n",
      "[MainProcess/INFO] generation 33: 3300/6000 nfe\n",
      "[MainProcess/INFO] generation 34: 3400/6000 nfe\n",
      "[MainProcess/INFO] generation 35: 3500/6000 nfe\n",
      "[MainProcess/INFO] generation 36: 3600/6000 nfe\n",
      "[MainProcess/INFO] generation 37: 3700/6000 nfe\n",
      "[MainProcess/INFO] generation 38: 3800/6000 nfe\n",
      "[MainProcess/INFO] generation 39: 3900/6000 nfe\n",
      "[MainProcess/INFO] generation 40: 4000/6000 nfe\n",
      "[MainProcess/INFO] generation 41: 4100/6000 nfe\n",
      "[MainProcess/INFO] generation 42: 4200/6000 nfe\n",
      "[MainProcess/INFO] generation 43: 4300/6000 nfe\n",
      "[MainProcess/INFO] generation 44: 4400/6000 nfe\n",
      "[MainProcess/INFO] generation 45: 4500/6000 nfe\n",
      "[MainProcess/INFO] generation 46: 4600/6000 nfe\n",
      "[MainProcess/INFO] generation 47: 4700/6000 nfe\n",
      "[MainProcess/INFO] generation 48: 4800/6000 nfe\n",
      "[MainProcess/INFO] generation 49: 4900/6000 nfe\n",
      "[MainProcess/INFO] generation 50: 5000/6000 nfe\n",
      "[MainProcess/INFO] generation 51: 5100/6000 nfe\n",
      "[MainProcess/INFO] generation 52: 5200/6000 nfe\n",
      "[MainProcess/INFO] generation 53: 5300/6000 nfe\n",
      "[MainProcess/INFO] generation 54: 5400/6000 nfe\n",
      "[MainProcess/INFO] generation 55: 5500/6000 nfe\n",
      "[MainProcess/INFO] generation 56: 5600/6000 nfe\n",
      "[MainProcess/INFO] generation 57: 5700/6000 nfe\n",
      "[MainProcess/INFO] generation 58: 5800/6000 nfe\n",
      "[MainProcess/INFO] generation 59: 5900/6000 nfe\n",
      "[MainProcess/INFO] optimization completed, found 4 solutions\n",
      "[MainProcess/INFO] terminating pool\n",
      "[MainProcess/INFO] results saved successfully to C:\\Users\\user\\EPA1361\\fin_ass\\MORDM\\policy0 6000nfe worst case scenario.tar.gz\n",
      "[MainProcess/INFO] results loaded succesfully from C:\\Users\\user\\EPA1361\\fin_ass\\MORDM\\policy0 6000nfe worst case scenario.tar.gz\n"
     ]
    },
    {
     "data": {
      "text/plain": [
       "Text(0.5,0,'number of function evaluations')"
      ]
     },
     "execution_count": 6,
     "metadata": {},
     "output_type": "execute_result"
    },
    {
     "data": {
      "image/png": "[encoded data removed]",
      "text/plain": [
       "<Figure size 576x288 with 2 Axes>"
      ]
     },
     "metadata": {},
     "output_type": "display_data"
    }
   ],
   "source": [
    "minimize = ScalarOutcome.MINIMIZE\n",
    "maximize = ScalarOutcome.MAXIMIZE\n",
    "pol0 = {}\n",
    "for key in dike_model.levers:\n",
    "    pol0.update({key.name:0})                \n",
    "policy0 = Policy('Policy 0', **pol0)\n",
    "for outcome in dike_model.outcomes:\n",
    "    if outcome.kind == minimize:\n",
    "        outcome.kind = maximize\n",
    "    else:\n",
    "        outcome.kind = minimize\n",
    "epsilon = [1e2, 1e2,1,1, 0.001]\n",
    "convergence_metrics = [HyperVolume(minimum=[0, 0, 0, 0, 0], \n",
    "                                   maximum=[1e11, 1e10,1e8,1e8, 10]),\n",
    "                       EpsilonProgress()]\n",
    "\n",
    "with MultiprocessingEvaluator(dike_model) as evaluator:\n",
    "    results = evaluator.optimize(nfe=6000, searchover='uncertainties',epsilons=epsilon,\n",
    "                                 convergence=convergence_metrics,reference=policy0,logging_freq=1,\n",
    "                                 convergence_freq=10)\n",
    "save_results(results,'policy0 6000nfe worst case scenario.tar.gz')\n",
    "results = load_results('policy0 6000nfe worst case scenario.tar.gz')\n",
    "scenarios, convergence = results\n",
    "fig, (ax1, ax2) = plt.subplots(ncols=2, sharex=True, figsize=(8,4))\n",
    "ax1.plot(convergence['nfe'], convergence['epsilon_progress'])\n",
    "ax1.set_ylabel('$\\epsilon$-progress')\n",
    "ax2.plot(convergence['nfe'], convergence['hypervolume'])\n",
    "ax2.set_ylabel('hypervolume')\n",
    "\n",
    "ax1.set_xlabel('number of function evaluations')\n",
    "ax2.set_xlabel('number of function evaluations')"
   ]
  },
  {
   "cell_type": "code",
   "execution_count": 4,
   "metadata": {},
   "outputs": [
    {
     "name": "stderr",
     "output_type": "stream",
     "text": [
      "[MainProcess/INFO] results loaded succesfully from C:\\Users\\user\\EPA1361\\fin_ass\\MORDM\\policy0 6000nfe worst case scenario.tar.gz\n"
     ]
    },
    {
     "data": {
      "text/plain": [
       "Text(0.5,0,'number of function evaluations')"
      ]
     },
     "execution_count": 4,
     "metadata": {},
     "output_type": "execute_result"
    },
    {
     "data": {
      "image/png": "[encoded data removed]",
      "text/plain": [
       "<Figure size 576x288 with 2 Axes>"
      ]
     },
     "metadata": {},
     "output_type": "display_data"
    }
   ],
   "source": [
    "results = load_results('policy0 6000nfe worst case scenario.tar.gz')\n",
    "scenarios, convergence = results\n",
    "fig, (ax1, ax2) = plt.subplots(ncols=2, sharex=True, figsize=(8,4))\n",
    "ax1.plot(convergence['nfe'], convergence['epsilon_progress'])\n",
    "ax1.set_ylabel('$\\epsilon$-progress')\n",
    "ax2.plot(convergence['nfe'], convergence['hypervolume'])\n",
    "ax2.set_ylabel('hypervolume')\n",
    "\n",
    "ax1.set_xlabel('number of function evaluations')\n",
    "ax2.set_xlabel('number of function evaluations')"
   ]
  },
  {
   "cell_type": "code",
   "execution_count": 9,
   "metadata": {},
   "outputs": [
    {
     "name": "stderr",
     "output_type": "stream",
     "text": [
      "[MainProcess/INFO] results saved successfully to C:\\Users\\user\\EPA1361\\fin_ass\\MORDM\\scenario1 MORDMruns_worst case scenario.tar.gz\n",
      "[MainProcess/INFO] results loaded succesfully from C:\\Users\\user\\EPA1361\\fin_ass\\MORDM\\scenario1 MORDMruns_worst case scenario.tar.gz\n"
     ]
    },
    {
     "data": {
      "text/plain": [
       "Text(0.5,0,'number of function evaluations')"
      ]
     },
     "execution_count": 9,
     "metadata": {},
     "output_type": "execute_result"
    },
    {
     "data": {
      "image/png": "[encoded data removed]",
      "text/plain": [
       "<Figure size 576x288 with 2 Axes>"
      ]
     },
     "metadata": {},
     "output_type": "display_data"
    }
   ],
   "source": [
    "scenario1 = scenarios.loc[0, [u.name for u in dike_model.uncertainties]].to_dict()\n",
    "\n",
    "for key in scenario1:\n",
    "    if 'Category' in str(scenario1[key]):\n",
    "        scenario1[key] = float(scenario1[key].split(\"'\")[1]) # modify Category object to float value\n",
    "ref_uncertainties = Scenario('reference', **scenario1)\n",
    "nfe_MORDM = 8000\n",
    "\n",
    "epsilon = [100, 100, 1, 1, 0.001]\n",
    "\n",
    "convergence_metrics = [HyperVolume(minimum=[0, 0, 0, 0, 0], \n",
    "                                   maximum=[1e10, 1e9,1e8,1e8, 10]),\n",
    "                       EpsilonProgress()]\n",
    "with MultiprocessingEvaluator(dike_model) as evaluator:\n",
    "    results = evaluator.optimize(nfe=nfe_MORDM, \n",
    "                                 searchover='levers',\n",
    "                                 epsilons=epsilon,\n",
    "                                 convergence=convergence_metrics,\n",
    "                                 reference=ref_uncertainties)\n",
    "\n",
    "save_results(results, 'scenario1 MORDMruns_worst case scenario.tar.gz')\n",
    "results = load_results('scenario1 MORDMruns_worst case scenario.tar.gz')\n",
    "\n",
    "outcomes, convergence = results\n",
    "fig, (ax1, ax2) = plt.subplots(ncols=2, sharex=True, figsize=(8,4))\n",
    "ax1.plot(convergence['nfe'], convergence['epsilon_progress'])\n",
    "ax1.set_ylabel('$\\epsilon$-progress')\n",
    "ax2.plot(convergence['nfe'], convergence['hypervolume'])\n",
    "ax2.set_ylabel('hypervolume')\n",
    "\n",
    "ax1.set_xlabel('number of function evaluations')\n",
    "ax2.set_xlabel('number of function evaluations')"
   ]
  }
 ],
 "metadata": {
  "kernelspec": {
   "display_name": "Python 3",
   "language": "python",
   "name": "python3"
  },
  "language_info": {
   "codemirror_mode": {
    "name": "ipython",
    "version": 3
   },
   "file_extension": ".py",
   "mimetype": "text/x-python",
   "name": "python",
   "nbconvert_exporter": "python",
   "pygments_lexer": "ipython3",
   "version": "3.6.5"
  }
 },
 "nbformat": 4,
 "nbformat_minor": 2
}
