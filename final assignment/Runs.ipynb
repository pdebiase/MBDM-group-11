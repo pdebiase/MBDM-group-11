{
 "cells": [
  {
   "cell_type": "code",
   "execution_count": 1,
   "metadata": {},
   "outputs": [
    {
     "name": "stderr",
     "output_type": "stream",
     "text": [
      "C:\\Users\\georg\\Anaconda3\\lib\\importlib\\_bootstrap.py:219: ImportWarning: can't resolve package from __spec__ or __package__, falling back on __name__ and __path__\n",
      "  return f(*args, **kwds)\n"
     ]
    }
   ],
   "source": [
    "SEED = 42 \n",
    "import numpy.random\n",
    "import random\n",
    "numpy.random.seed(SEED)\n",
    "random.seed(SEED)\n",
    "import numpy as np\n",
    "import matplotlib.pyplot as plt\n",
    "import pandas as pd\n",
    "import functools\n",
    "from ema_workbench import (Model, RealParameter, Policy, Constant, Scenario, Constraint, \n",
    "                           ScalarOutcome, MultiprocessingEvaluator, ema_logging, perform_experiments)\n",
    "from ema_workbench.util import ema_logging, save_results, load_results\n",
    "from ema_workbench.em_framework.optimization import (EpsilonProgress, HyperVolume, ArchiveLogger)\n",
    "from problem_formulation import get_model_for_problem_formulation\n",
    "from ema_workbench.em_framework import sample_uncertainties\n",
    "from ema_workbench.em_framework.evaluators import BaseEvaluator\n",
    "\n",
    "%matplotlib inline  \n",
    "# With this backend, the output of plotting commands is displayed inline within frontends like the Jupyter notebook, \n",
    "# directly below the code cell that produced it. The resulting plots will then also be stored in the notebook document.\n",
    "\n",
    "ema_logging.log_to_stderr(ema_logging.INFO)\n",
    "dike_model, planning_steps = get_model_for_problem_formulation(2) # assign problem_formulation_id"
   ]
  },
  {
   "cell_type": "code",
   "execution_count": 2,
   "metadata": {},
   "outputs": [],
   "source": [
    "'''\n",
    "For different list of outcomes:\n",
    "# 0 = 2-objective PF\n",
    "# 1 = 3-objective PF\n",
    "# 2 = 5-objective PF\n",
    "# 3 = Disaggregate over locations\n",
    "# 4 = Disaggregate over time\n",
    "# 5 = Fully disaggregated\n",
    "'''\n",
    "ID_PF = 3    # assign problem_formulation_id\n",
    "NR_STEPS = 2 # assign number of planning steps\n",
    "dike_model, planning_steps = get_model_for_problem_formulation(ID_PF)"
   ]
  },
  {
   "cell_type": "code",
   "execution_count": null,
   "metadata": {},
   "outputs": [],
   "source": []
  },
  {
   "cell_type": "code",
   "execution_count": null,
   "metadata": {},
   "outputs": [
    {
     "name": "stderr",
     "output_type": "stream",
     "text": [
      "[MainProcess/INFO] pool started\n",
      "[MainProcess/INFO] performing 10 scenarios * 1000 policies * 1 model(s) = 10000 experiments\n"
     ]
    }
   ],
   "source": [
    "%%time\n",
    "with MultiprocessingEvaluator(dike_model) as evaluator:\n",
    "    results = evaluator.perform_experiments(scenarios=10, policies=1000)\n",
    "\n",
    "save_results(results, './results/open_exploration_policies_10000runs_2steps_ID_PF_3.tar.gz')"
   ]
  },
  {
   "cell_type": "code",
   "execution_count": 3,
   "metadata": {},
   "outputs": [],
   "source": [
    "# results"
   ]
  },
  {
   "cell_type": "code",
   "execution_count": null,
   "metadata": {},
   "outputs": [],
   "source": [
    "%%time\n",
    "with MultiprocessingEvaluator(dike_model) as evaluator:\n",
    "    results = evaluator.perform_experiments(scenarios=1000, policies=10) # using lhs sampling\n",
    "\n",
    "save_results(results, './results/open_exploration_uncertainties_10000runs_2steps_ID_PF_3.tar.gz')"
   ]
  },
  {
   "cell_type": "code",
   "execution_count": null,
   "metadata": {},
   "outputs": [],
   "source": [
    "experiments, outcomes = results"
   ]
  },
  {
   "cell_type": "code",
   "execution_count": null,
   "metadata": {},
   "outputs": [],
   "source": [
    "# use the same 1,000 sampled scenarios, run for zero policy\n",
    "sampled_scenarios = experiments.loc[:, [u.name for u in dike_model.uncertainties]]\n",
    "sampled_scenarios.drop_duplicates(inplace=True)\n",
    "ref_scenarios = [Scenario(i, **scenario.to_dict())\n",
    "                 for i, scenario in pd.DataFrame.from_dict(sampled_scenarios).iterrows()] # sampled scenarios\n",
    "\n",
    "# make a policy instance for zero policy\n",
    "policy0 = {'DikeIncrease': 0, 'DaysToThreat': 0, 'RfR': 0}\n",
    "ref_policy = {}\n",
    "for key in dike_model.levers:\n",
    "    _, s = key.name.split('_')\n",
    "    if ' ' in s:\n",
    "        s, _ = s.split(' ')\n",
    "    ref_policy.update({key.name: policy0[s]})\n",
    "ref_policy0 = Policy('baseline', **ref_policy) # policy0"
   ]
  },
  {
   "cell_type": "code",
   "execution_count": null,
   "metadata": {},
   "outputs": [],
   "source": [
    "%%time\n",
    "with MultiprocessingEvaluator(dike_model) as evaluator:\n",
    "    results = evaluator.perform_experiments(scenarios=ref_scenarios, \n",
    "                                            policies=ref_policy0) # using lhs sampling\n",
    "\n",
    "save_results(results, './results/open_exploration_uncertainties_policy0_2steps_ID_PF_3.tar.gz')"
   ]
  },
  {
   "cell_type": "code",
   "execution_count": null,
   "metadata": {},
   "outputs": [],
   "source": []
  },
  {
   "cell_type": "code",
   "execution_count": null,
   "metadata": {},
   "outputs": [],
   "source": []
  },
  {
   "cell_type": "code",
   "execution_count": null,
   "metadata": {},
   "outputs": [],
   "source": []
  },
  {
   "cell_type": "code",
   "execution_count": null,
   "metadata": {},
   "outputs": [],
   "source": []
  }
 ],
 "metadata": {
  "kernelspec": {
   "display_name": "Python 3",
   "language": "python",
   "name": "python3"
  },
  "language_info": {
   "codemirror_mode": {
    "name": "ipython",
    "version": 3
   },
   "file_extension": ".py",
   "mimetype": "text/x-python",
   "name": "python",
   "nbconvert_exporter": "python",
   "pygments_lexer": "ipython3",
   "version": "3.6.5"
  }
 },
 "nbformat": 4,
 "nbformat_minor": 2
}
