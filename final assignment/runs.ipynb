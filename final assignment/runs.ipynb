{
 "cells": [
  {
   "cell_type": "code",
   "execution_count": 1,
   "metadata": {},
   "outputs": [
    {
     "name": "stderr",
     "output_type": "stream",
     "text": [
      "C:\\ProgramData\\Anaconda3\\lib\\importlib\\_bootstrap.py:219: ImportWarning: can't resolve package from __spec__ or __package__, falling back on __name__ and __path__\n",
      "  return f(*args, **kwds)\n",
      "C:\\ProgramData\\Anaconda3\\lib\\importlib\\_bootstrap.py:219: ImportWarning: can't resolve package from __spec__ or __package__, falling back on __name__ and __path__\n",
      "  return f(*args, **kwds)\n",
      "C:\\ProgramData\\Anaconda3\\lib\\importlib\\_bootstrap.py:219: ImportWarning: can't resolve package from __spec__ or __package__, falling back on __name__ and __path__\n",
      "  return f(*args, **kwds)\n"
     ]
    }
   ],
   "source": [
    "import numpy as np\n",
    "import pandas as pd\n",
    "import itertools\n",
    "import time\n",
    "from random import random\n",
    "import matplotlib.pyplot as plt\n",
    "import seaborn as sns\n",
    "from ema_workbench import (MultiprocessingEvaluator, \n",
    "                           Scenario, Constraint, Policy,\n",
    "                           ScalarOutcome)\n",
    "from ema_workbench.em_framework.optimization import EpsilonProgress, HyperVolume\n",
    "from ema_workbench.em_framework.evaluators import (perform_experiments, optimize,\n",
    "                                                   BaseEvaluator)\n",
    "from ema_workbench.util import ema_logging, save_results, load_results\n",
    "from ema_workbench.analysis import (pairs_plotting, prim, \n",
    "                                    feature_scoring, parcoords,\n",
    "                                    dimensional_stacking)\n",
    "\n",
    "from problem_formulation import get_model_for_problem_formulation\n",
    "%matplotlib inline\n",
    "\n",
    "ema_logging.log_to_stderr(ema_logging.INFO)\n",
    "\n",
    "BaseEvaluator.reporting_frequency = 0.01"
   ]
  },
  {
   "cell_type": "code",
   "execution_count": 2,
   "metadata": {},
   "outputs": [],
   "source": [
    "dike_model,planning_steps = get_model_for_problem_formulation(5)"
   ]
  },
  {
   "cell_type": "code",
   "execution_count": 3,
   "metadata": {},
   "outputs": [
    {
     "name": "stderr",
     "output_type": "stream",
     "text": [
      "[MainProcess/INFO] results loaded succesfully from C:\\Users\\user\\EPA1361\\fin_ass\\Runs on sollution\\scenario1 MORDMruns_worst case scenario.tar.gz\n"
     ]
    }
   ],
   "source": [
    "MORDM_levers = load_results('scenario1 MORDMruns_worst case scenario.tar.gz')\n",
    "MORDM_pol,outcomes = MORDM_levers\n",
    "MORDM_pol = MORDM_pol.sample(n=3)\n",
    "MORDM_pol = MORDM_pol.iloc[:,0:21]\n",
    "#results_df = pd.DataFrame.from_dict(_) "
   ]
  },
  {
   "cell_type": "code",
   "execution_count": 4,
   "metadata": {},
   "outputs": [],
   "source": [
    "MORO_res= pd.read_csv('moro_results.xls')\n",
    "MORO_res = MORO_res.sample(n=3)\n",
    "MORO_pol = MORO_res.iloc[:,1:22]"
   ]
  },
  {
   "cell_type": "code",
   "execution_count": 5,
   "metadata": {},
   "outputs": [],
   "source": [
    "fin_levers = pd.concat([MORDM_pol,MORO_pol])\n",
    "fin_levers = fin_levers.reset_index()\n",
    "fin_levers = fin_levers.rename(index={0:'MORDM1',1:'MORDM2',2:'MORDM3',3:'MORO1',\n",
    "                                     4:'MORO2',5:'MORO3'})\n",
    "fin_levers = fin_levers.drop(['index'],axis=1)"
   ]
  },
  {
   "cell_type": "code",
   "execution_count": 6,
   "metadata": {},
   "outputs": [],
   "source": [
    "policies = []\n",
    "pol0 = {}\n",
    "for key in dike_model.levers:\n",
    "    pol0.update({key.name:0})                \n",
    "policy0 = Policy('Policy 0', **pol0)\n",
    "policies.append(policy0)\n",
    "for i,lever in enumerate(fin_levers.index):\n",
    "    policy = fin_levers.loc[lever].to_dict()\n",
    "    policy = Policy(fin_levers.index[i], **policy)\n",
    "    policies.append(policy)"
   ]
  },
  {
   "cell_type": "code",
   "execution_count": 8,
   "metadata": {},
   "outputs": [
    {
     "name": "stderr",
     "output_type": "stream",
     "text": [
      "[MainProcess/INFO] pool started\n",
      "[MainProcess/INFO] performing 2500 scenarios * 7 policies * 1 model(s) = 17500 experiments\n",
      "[MainProcess/INFO] 1750 cases completed\n",
      "[MainProcess/INFO] 3500 cases completed\n",
      "[MainProcess/INFO] 5250 cases completed\n",
      "[MainProcess/INFO] 7000 cases completed\n",
      "[MainProcess/INFO] 8750 cases completed\n",
      "[MainProcess/INFO] 10500 cases completed\n",
      "[MainProcess/INFO] 12250 cases completed\n",
      "[MainProcess/INFO] 14000 cases completed\n",
      "[MainProcess/INFO] 15750 cases completed\n",
      "[MainProcess/INFO] 17500 cases completed\n",
      "[MainProcess/INFO] experiments finished\n",
      "[MainProcess/INFO] terminating pool\n",
      "[MainProcess/INFO] results saved successfully to C:\\Users\\user\\EPA1361\\fin_ass\\Runs on sollution\\random7pol.tar.gz\n"
     ]
    }
   ],
   "source": [
    "n_scenarios = 2500\n",
    "\n",
    "#start = time.time()\n",
    "with MultiprocessingEvaluator(dike_model) as evaluator:\n",
    "    results = evaluator.perform_experiments(scenarios=n_scenarios, policies = policies)\n",
    "    end = time.time()\n",
    "#print(round((end - start)/3600, 2), \"Hours\")\n",
    "save_results(results, \"random7pol.tar.gz\")"
   ]
  }
 ],
 "metadata": {
  "kernelspec": {
   "display_name": "Python 3",
   "language": "python",
   "name": "python3"
  },
  "language_info": {
   "codemirror_mode": {
    "name": "ipython",
    "version": 3
   },
   "file_extension": ".py",
   "mimetype": "text/x-python",
   "name": "python",
   "nbconvert_exporter": "python",
   "pygments_lexer": "ipython3",
   "version": "3.6.5"
  }
 },
 "nbformat": 4,
 "nbformat_minor": 2
}
