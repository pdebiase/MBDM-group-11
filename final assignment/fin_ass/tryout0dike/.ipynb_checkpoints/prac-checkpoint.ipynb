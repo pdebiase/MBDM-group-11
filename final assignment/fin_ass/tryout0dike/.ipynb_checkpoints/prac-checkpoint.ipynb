{
 "cells": [
  {
   "cell_type": "code",
   "execution_count": 1,
   "metadata": {},
   "outputs": [
    {
     "name": "stderr",
     "output_type": "stream",
     "text": [
      "C:\\ProgramData\\Anaconda3\\lib\\importlib\\_bootstrap.py:219: ImportWarning: can't resolve package from __spec__ or __package__, falling back on __name__ and __path__\n",
      "  return f(*args, **kwds)\n",
      "C:\\ProgramData\\Anaconda3\\lib\\importlib\\_bootstrap.py:219: ImportWarning: can't resolve package from __spec__ or __package__, falling back on __name__ and __path__\n",
      "  return f(*args, **kwds)\n",
      "C:\\ProgramData\\Anaconda3\\lib\\importlib\\_bootstrap.py:219: ImportWarning: can't resolve package from __spec__ or __package__, falling back on __name__ and __path__\n",
      "  return f(*args, **kwds)\n"
     ]
    },
    {
     "data": {
      "text/plain": [
       "<Logger EMA (DEBUG)>"
      ]
     },
     "execution_count": 1,
     "metadata": {},
     "output_type": "execute_result"
    }
   ],
   "source": [
    "import time, itertools\n",
    "import numpy as np\n",
    "import pandas as pd\n",
    "\n",
    "import matplotlib.pyplot as plt\n",
    "import seaborn as sns\n",
    "\n",
    "%matplotlib inline\n",
    "\n",
    "#from custom_funcs import *\n",
    "\n",
    "from ema_workbench import (Model, IntegerParameter, RealParameter, CategoricalParameter, Constant,\n",
    "                           ScalarOutcome, MultiprocessingEvaluator, Policy, Scenario)\n",
    "\n",
    "from ema_workbench.em_framework.evaluators import perform_experiments\n",
    "from ema_workbench.em_framework.samplers import sample_uncertainties\n",
    "from ema_workbench.em_framework.optimization import EpsilonProgress, HyperVolume\n",
    "from ema_workbench.util import ema_logging, save_results, load_results\n",
    "from ema_workbench.analysis import prim, feature_scoring\n",
    "\n",
    "from problem_formulation import get_model_for_problem_formulation\n",
    "ema_logging.log_to_stderr(ema_logging.INFO)"
   ]
  },
  {
   "cell_type": "code",
   "execution_count": 2,
   "metadata": {},
   "outputs": [],
   "source": [
    "dike_model,planning_steps = get_model_for_problem_formulation(2)"
   ]
  },
  {
   "cell_type": "code",
   "execution_count": 5,
   "metadata": {},
   "outputs": [],
   "source": [
    "for unc in dike_model.outcomes:\n",
    "    print(unc)"
   ]
  },
  {
   "cell_type": "code",
   "execution_count": 32,
   "metadata": {},
   "outputs": [],
   "source": [
    "reference_values = {'Bmax': 175, 'Brate': 1.5, 'pfail': 0.5,\n",
    "                    'discount rate': 3.5,\n",
    "                    'ID flood wave shape': 4}\n",
    "scen1 = {}\n",
    "for key in dike_model.uncertainties:\n",
    "        name_split = key.name.split('_')\n",
    "        if len(name_split) == 1:\n",
    "            scen1.update({key.name: reference_values['discount rate']})\n",
    "        else:\n",
    "            scen1.update({key.name: reference_values[name_split[1]]})\n",
    "ref_scenario = Scenario('reference', **scen1)"
   ]
  },
  {
   "cell_type": "code",
   "execution_count": 3,
   "metadata": {},
   "outputs": [
    {
     "name": "stderr",
     "output_type": "stream",
     "text": [
      "[MainProcess/INFO] pool started\n",
      "[MainProcess/INFO] performing 1000 scenarios * 1 policies * 1 model(s) = 1000 experiments\n",
      "[MainProcess/INFO] 100 cases completed\n",
      "[MainProcess/INFO] 200 cases completed\n",
      "[MainProcess/INFO] 300 cases completed\n",
      "[MainProcess/INFO] 400 cases completed\n",
      "[MainProcess/INFO] 500 cases completed\n",
      "[MainProcess/INFO] 600 cases completed\n",
      "[MainProcess/INFO] 700 cases completed\n",
      "[MainProcess/INFO] 800 cases completed\n",
      "[MainProcess/INFO] 900 cases completed\n",
      "[MainProcess/INFO] 1000 cases completed\n",
      "[MainProcess/INFO] experiments finished\n",
      "[MainProcess/INFO] terminating pool\n"
     ]
    }
   ],
   "source": [
    "from ema_workbench import (MultiprocessingEvaluator, ema_logging,\n",
    "                           perform_experiments, SequentialEvaluator)\n",
    "ema_logging.log_to_stderr(ema_logging.INFO)\n",
    " \n",
    "with MultiprocessingEvaluator(dike_model) as evaluator:\n",
    "    results,outcomes = evaluator.perform_experiments(scenarios=1000, policies=1)"
   ]
  },
  {
   "cell_type": "code",
   "execution_count": 20,
   "metadata": {},
   "outputs": [],
   "source": [
    "import statsmodels.api as sm\n",
    "import statsmodels.formula.api as smf"
   ]
  },
  {
   "cell_type": "code",
   "execution_count": 18,
   "metadata": {},
   "outputs": [
    {
     "name": "stderr",
     "output_type": "stream",
     "text": [
      "C:\\ProgramData\\Anaconda3\\lib\\site-packages\\ipykernel_launcher.py:6: SettingWithCopyWarning: \n",
      "A value is trying to be set on a copy of a slice from a DataFrame.\n",
      "Try using .loc[row_indexer,col_indexer] = value instead\n",
      "\n",
      "See the caveats in the documentation: http://pandas.pydata.org/pandas-docs/stable/indexing.html#indexing-view-versus-copy\n",
      "  \n"
     ]
    }
   ],
   "source": [
    "experiment = results[['A.0_ID flood wave shape', 'A.1_Bmax', 'A.1_Brate', 'A.1_pfail',\n",
    "       'A.2_Bmax', 'A.2_Brate', 'A.2_pfail', 'A.3_Bmax', 'A.3_Brate',\n",
    "       'A.3_pfail', 'A.4_Bmax', 'A.4_Brate', 'A.4_pfail', 'A.5_Bmax',\n",
    "       'A.5_Brate', 'A.5_pfail', 'discount rate 0', 'discount rate 1',\n",
    "       'discount rate 2']]\n",
    "experiment['constant']=1"
   ]
  },
  {
   "cell_type": "code",
   "execution_count": 15,
   "metadata": {},
   "outputs": [],
   "source": [
    "array1=outcomes['Expected Annual Damage']\n",
    "df2 = pd.DataFrame(array1)\n",
    "y = df2.values"
   ]
  },
  {
   "cell_type": "code",
   "execution_count": 1,
   "metadata": {},
   "outputs": [
    {
     "ename": "NameError",
     "evalue": "name 'experiment' is not defined",
     "output_type": "error",
     "traceback": [
      "\u001b[1;31m---------------------------------------------------------------------------\u001b[0m",
      "\u001b[1;31mNameError\u001b[0m                                 Traceback (most recent call last)",
      "\u001b[1;32m<ipython-input-1-587c819c31b4>\u001b[0m in \u001b[0;36m<module>\u001b[1;34m()\u001b[0m\n\u001b[1;32m----> 1\u001b[1;33m \u001b[0mexperiment\u001b[0m\u001b[1;33m.\u001b[0m\u001b[0mhead\u001b[0m\u001b[1;33m(\u001b[0m\u001b[1;33m)\u001b[0m\u001b[1;33m\u001b[0m\u001b[0m\n\u001b[0m",
      "\u001b[1;31mNameError\u001b[0m: name 'experiment' is not defined"
     ]
    }
   ],
   "source": [
    "experiment.head()"
   ]
  },
  {
   "cell_type": "code",
   "execution_count": 30,
   "metadata": {},
   "outputs": [],
   "source": [
    "model1 = sm.OLS(y,experiment.astype(float))"
   ]
  },
  {
   "cell_type": "code",
   "execution_count": 31,
   "metadata": {},
   "outputs": [
    {
     "name": "stdout",
     "output_type": "stream",
     "text": [
      "                            OLS Regression Results                            \n",
      "==============================================================================\n",
      "Dep. Variable:                      y   R-squared:                       0.160\n",
      "Model:                            OLS   Adj. R-squared:                  0.144\n",
      "Method:                 Least Squares   F-statistic:                     9.829\n",
      "Date:                Wed, 05 Jun 2019   Prob (F-statistic):           9.64e-27\n",
      "Time:                        18:15:20   Log-Likelihood:                -20170.\n",
      "No. Observations:                1000   AIC:                         4.038e+04\n",
      "Df Residuals:                     980   BIC:                         4.048e+04\n",
      "Df Model:                          19                                         \n",
      "Covariance Type:            nonrobust                                         \n",
      "===========================================================================================\n",
      "                              coef    std err          t      P>|t|      [0.025      0.975]\n",
      "-------------------------------------------------------------------------------------------\n",
      "A.0_ID flood wave shape  1.199e+05   1.16e+05      1.031      0.303   -1.08e+05    3.48e+05\n",
      "A.1_Bmax                -6.185e+04   4.85e+04     -1.274      0.203   -1.57e+05    3.34e+04\n",
      "A.1_Brate                5.409e+05   1.08e+06      0.499      0.618   -1.59e+06    2.67e+06\n",
      "A.1_pfail                1.602e+06   1.55e+07      0.104      0.918   -2.88e+07     3.2e+07\n",
      "A.2_Bmax                 1.564e+04   4.86e+04      0.322      0.747   -7.96e+04    1.11e+05\n",
      "A.2_Brate               -6.972e+05   1.09e+06     -0.640      0.522   -2.83e+06    1.44e+06\n",
      "A.2_pfail               -2.174e+07   1.55e+07     -1.400      0.162   -5.22e+07    8.74e+06\n",
      "A.3_Bmax                 2.744e+04   4.85e+04      0.566      0.572   -6.77e+04    1.23e+05\n",
      "A.3_Brate               -1.978e+06   1.08e+06     -1.828      0.068    -4.1e+06    1.46e+05\n",
      "A.3_pfail               -1.986e+08   1.55e+07    -12.799      0.000   -2.29e+08   -1.68e+08\n",
      "A.4_Bmax                -1.678e+04   4.84e+04     -0.346      0.729   -1.12e+05    7.83e+04\n",
      "A.4_Brate                1.473e+06   1.09e+06      1.354      0.176   -6.62e+05    3.61e+06\n",
      "A.4_pfail               -4.083e+06   1.55e+07     -0.264      0.792   -3.45e+07    2.63e+07\n",
      "A.5_Bmax                -3.725e+04   4.85e+04     -0.768      0.442   -1.32e+05    5.79e+04\n",
      "A.5_Brate                 9.78e+05   1.08e+06      0.902      0.367   -1.15e+06    3.11e+06\n",
      "A.5_pfail               -1.542e+07   1.55e+07     -0.992      0.321   -4.59e+07    1.51e+07\n",
      "discount rate 0         -1.245e+07   4.02e+06     -3.095      0.002   -2.03e+07   -4.56e+06\n",
      "discount rate 1         -6.716e+06   3.99e+06     -1.682      0.093   -1.46e+07    1.12e+06\n",
      "discount rate 2          5.404e+05      4e+06      0.135      0.892    -7.3e+06    8.38e+06\n",
      "constant                 2.206e+08   3.65e+07      6.036      0.000    1.49e+08    2.92e+08\n",
      "==============================================================================\n",
      "Omnibus:                     1146.717   Durbin-Watson:                   2.006\n",
      "Prob(Omnibus):                  0.000   Jarque-Bera (JB):            74821.047\n",
      "Skew:                           5.830   Prob(JB):                         0.00\n",
      "Kurtosis:                      43.740   Cond. No.                     3.72e+03\n",
      "==============================================================================\n",
      "\n",
      "Warnings:\n",
      "[1] Standard Errors assume that the covariance matrix of the errors is correctly specified.\n",
      "[2] The condition number is large, 3.72e+03. This might indicate that there are\n",
      "strong multicollinearity or other numerical problems.\n"
     ]
    }
   ],
   "source": [
    "results = model1.fit()\n",
    "print(results.summary())"
   ]
  }
 ],
 "metadata": {
  "kernelspec": {
   "display_name": "Python 3",
   "language": "python",
   "name": "python3"
  },
  "language_info": {
   "codemirror_mode": {
    "name": "ipython",
    "version": 3
   },
   "file_extension": ".py",
   "mimetype": "text/x-python",
   "name": "python",
   "nbconvert_exporter": "python",
   "pygments_lexer": "ipython3",
   "version": "3.6.5"
  }
 },
 "nbformat": 4,
 "nbformat_minor": 2
}
