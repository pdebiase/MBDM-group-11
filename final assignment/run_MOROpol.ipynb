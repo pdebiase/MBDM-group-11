{
 "cells": [
  {
   "cell_type": "code",
   "execution_count": 3,
   "metadata": {},
   "outputs": [],
   "source": [
    "import numpy as np\n",
    "import pandas as pd\n",
    "import itertools\n",
    "import time\n",
    "from random import random\n",
    "import matplotlib.pyplot as plt\n",
    "import seaborn as sns\n",
    "from ema_workbench import (MultiprocessingEvaluator, \n",
    "                           Scenario, Constraint, Policy,\n",
    "                           ScalarOutcome)\n",
    "from ema_workbench.em_framework.optimization import EpsilonProgress, HyperVolume\n",
    "from ema_workbench.em_framework.evaluators import (perform_experiments, optimize,\n",
    "                                                   BaseEvaluator)\n",
    "from ema_workbench.util import ema_logging, save_results, load_results\n",
    "from ema_workbench.analysis import (pairs_plotting, prim, \n",
    "                                    feature_scoring, parcoords,\n",
    "                                    dimensional_stacking)\n",
    "\n",
    "from problem_formulation import get_model_for_problem_formulation\n",
    "%matplotlib inline\n",
    "\n",
    "ema_logging.log_to_stderr(ema_logging.INFO)\n",
    "\n",
    "BaseEvaluator.reporting_frequency = 0.01"
   ]
  },
  {
   "cell_type": "code",
   "execution_count": 4,
   "metadata": {},
   "outputs": [],
   "source": [
    "dike_model,planning_steps = get_model_for_problem_formulation(5)"
   ]
  },
  {
   "cell_type": "code",
   "execution_count": 3,
   "metadata": {},
   "outputs": [
    {
     "name": "stderr",
     "output_type": "stream",
     "text": [
      "[MainProcess/INFO] results loaded succesfully from C:\\Users\\user\\EPA1361\\fin_ass\\Runs on sollution\\scenario1 MORDMruns_worst case scenario.tar.gz\n"
     ]
    }
   ],
   "source": [
    "MORO_levers = load_results('Solutions6000nfe60scen[0.01,0.01,0.01,0.01,0.01]eps.tar.gz')\n",
    "MORDM_pol,outcomes = MORDM_levers\n",
    "MORDM_pol = MORDM_pol.sample(n=3)\n",
    "MORDM_pol = MORDM_pol.iloc[:,0:21]\n",
    "#results_df = pd.DataFrame.from_dict(_) "
   ]
  },
  {
   "cell_type": "code",
   "execution_count": 6,
   "metadata": {},
   "outputs": [],
   "source": [
    "MORO_res= pd.read_csv('moro_pol.csv')\n",
    "#MORO_res = MORO_res.sample(n=3)\n",
    "#MORO_pol = MORO_res.iloc[:,1:22]"
   ]
  },
  {
   "cell_type": "code",
   "execution_count": 11,
   "metadata": {},
   "outputs": [],
   "source": [
    "MORO_res = MORO_res.drop(['Column1','Total Dikes','RfR'],axis=1)"
   ]
  },
  {
   "cell_type": "code",
   "execution_count": 13,
   "metadata": {},
   "outputs": [
    {
     "data": {
      "text/plain": [
       "Index(['0_RfR 0', '0_RfR 1', '1_RfR 0', '1_RfR 1', '2_RfR 0', '2_RfR 1',\n",
       "       '3_RfR 0', '3_RfR 1', '4_RfR 0', '4_RfR 1', 'EWS_DaysToThreat',\n",
       "       'A.1_DikeIncrease 0', 'A.1_DikeIncrease 1', 'A.2_DikeIncrease 0',\n",
       "       'A.2_DikeIncrease 1', 'A.3_DikeIncrease 0', 'A.3_DikeIncrease 1',\n",
       "       'A.4_DikeIncrease 0', 'A.4_DikeIncrease 1', 'A.5_DikeIncrease 0',\n",
       "       'A.5_DikeIncrease 1'],\n",
       "      dtype='object')"
      ]
     },
     "execution_count": 13,
     "metadata": {},
     "output_type": "execute_result"
    }
   ],
   "source": [
    "MORO_pol= MORO_res.iloc[:,0:21]\n",
    "MORO_pol.columns"
   ]
  },
  {
   "cell_type": "code",
   "execution_count": 16,
   "metadata": {},
   "outputs": [],
   "source": [
    "fin_levers = MORO_pol\n",
    "fin_levers = fin_levers.reset_index()\n",
    "fin_levers = fin_levers.rename(index={0:'policy1',1:'policy2',2:'policy3',3:'policy4',\n",
    "                                      })\n",
    "fin_levers = fin_levers.drop(['index'],axis=1)"
   ]
  },
  {
   "cell_type": "code",
   "execution_count": 17,
   "metadata": {},
   "outputs": [],
   "source": [
    "policies = []\n",
    "pol0 = {}\n",
    "for key in dike_model.levers:\n",
    "    pol0.update({key.name:0})                \n",
    "policy0 = Policy('Policy 0', **pol0)\n",
    "policies.append(policy0)\n",
    "for i,lever in enumerate(fin_levers.index):\n",
    "    policy = fin_levers.loc[lever].to_dict()\n",
    "    policy = Policy(fin_levers.index[i], **policy)\n",
    "    policies.append(policy)"
   ]
  },
  {
   "cell_type": "code",
   "execution_count": 18,
   "metadata": {},
   "outputs": [
    {
     "data": {
      "text/plain": [
       "[Policy({'0_RfR 0': 0, '0_RfR 1': 0, '1_RfR 0': 0, '1_RfR 1': 0, '2_RfR 0': 0, '2_RfR 1': 0, '3_RfR 0': 0, '3_RfR 1': 0, '4_RfR 0': 0, '4_RfR 1': 0, 'EWS_DaysToThreat': 0, 'A.1_DikeIncrease 0': 0, 'A.1_DikeIncrease 1': 0, 'A.2_DikeIncrease 0': 0, 'A.2_DikeIncrease 1': 0, 'A.3_DikeIncrease 0': 0, 'A.3_DikeIncrease 1': 0, 'A.4_DikeIncrease 0': 0, 'A.4_DikeIncrease 1': 0, 'A.5_DikeIncrease 0': 0, 'A.5_DikeIncrease 1': 0}),\n",
       " Policy({'0_RfR 0': 1, '0_RfR 1': 1, '1_RfR 0': 1, '1_RfR 1': 0, '2_RfR 0': 1, '2_RfR 1': 1, '3_RfR 0': 1, '3_RfR 1': 1, '4_RfR 0': 0, '4_RfR 1': 0, 'EWS_DaysToThreat': 0, 'A.1_DikeIncrease 0': 6, 'A.1_DikeIncrease 1': 0, 'A.2_DikeIncrease 0': 9, 'A.2_DikeIncrease 1': 0, 'A.3_DikeIncrease 0': 10, 'A.3_DikeIncrease 1': 0, 'A.4_DikeIncrease 0': 9, 'A.4_DikeIncrease 1': 2, 'A.5_DikeIncrease 0': 10, 'A.5_DikeIncrease 1': 0}),\n",
       " Policy({'0_RfR 0': 0, '0_RfR 1': 0, '1_RfR 0': 0, '1_RfR 1': 0, '2_RfR 0': 1, '2_RfR 1': 1, '3_RfR 0': 1, '3_RfR 1': 1, '4_RfR 0': 0, '4_RfR 1': 0, 'EWS_DaysToThreat': 0, 'A.1_DikeIncrease 0': 8, 'A.1_DikeIncrease 1': 0, 'A.2_DikeIncrease 0': 9, 'A.2_DikeIncrease 1': 0, 'A.3_DikeIncrease 0': 10, 'A.3_DikeIncrease 1': 0, 'A.4_DikeIncrease 0': 9, 'A.4_DikeIncrease 1': 2, 'A.5_DikeIncrease 0': 10, 'A.5_DikeIncrease 1': 0}),\n",
       " Policy({'0_RfR 0': 1, '0_RfR 1': 0, '1_RfR 0': 0, '1_RfR 1': 0, '2_RfR 0': 1, '2_RfR 1': 1, '3_RfR 0': 0, '3_RfR 1': 1, '4_RfR 0': 0, '4_RfR 1': 0, 'EWS_DaysToThreat': 0, 'A.1_DikeIncrease 0': 10, 'A.1_DikeIncrease 1': 0, 'A.2_DikeIncrease 0': 9, 'A.2_DikeIncrease 1': 0, 'A.3_DikeIncrease 0': 10, 'A.3_DikeIncrease 1': 0, 'A.4_DikeIncrease 0': 10, 'A.4_DikeIncrease 1': 3, 'A.5_DikeIncrease 0': 9, 'A.5_DikeIncrease 1': 0}),\n",
       " Policy({'0_RfR 0': 0, '0_RfR 1': 0, '1_RfR 0': 0, '1_RfR 1': 0, '2_RfR 0': 1, '2_RfR 1': 1, '3_RfR 0': 0, '3_RfR 1': 1, '4_RfR 0': 0, '4_RfR 1': 0, 'EWS_DaysToThreat': 0, 'A.1_DikeIncrease 0': 8, 'A.1_DikeIncrease 1': 0, 'A.2_DikeIncrease 0': 9, 'A.2_DikeIncrease 1': 0, 'A.3_DikeIncrease 0': 10, 'A.3_DikeIncrease 1': 0, 'A.4_DikeIncrease 0': 9, 'A.4_DikeIncrease 1': 3, 'A.5_DikeIncrease 0': 10, 'A.5_DikeIncrease 1': 0})]"
      ]
     },
     "execution_count": 18,
     "metadata": {},
     "output_type": "execute_result"
    }
   ],
   "source": [
    "policies"
   ]
  },
  {
   "cell_type": "code",
   "execution_count": 19,
   "metadata": {},
   "outputs": [
    {
     "name": "stderr",
     "output_type": "stream",
     "text": [
      "[MainProcess/INFO] pool started\n",
      "[MainProcess/INFO] performing 2000 scenarios * 5 policies * 1 model(s) = 10000 experiments\n",
      "[MainProcess/INFO] 1000 cases completed\n",
      "[MainProcess/INFO] 2000 cases completed\n",
      "[MainProcess/INFO] 3000 cases completed\n",
      "[MainProcess/INFO] 4000 cases completed\n",
      "[MainProcess/INFO] 5000 cases completed\n",
      "[MainProcess/INFO] 6000 cases completed\n",
      "[MainProcess/INFO] 7000 cases completed\n",
      "[MainProcess/INFO] 8000 cases completed\n",
      "[MainProcess/INFO] 9000 cases completed\n",
      "[MainProcess/INFO] 10000 cases completed\n",
      "[MainProcess/INFO] experiments finished\n",
      "[MainProcess/INFO] terminating pool\n"
     ]
    },
    {
     "name": "stdout",
     "output_type": "stream",
     "text": [
      "0.5 Hours\n"
     ]
    },
    {
     "name": "stderr",
     "output_type": "stream",
     "text": [
      "[MainProcess/INFO] results saved successfully to C:\\Users\\pvbia\\OneDrive\\Documentos\\GitHub\\MBDM-group-11\\final assignment\\MORO4pol.tar.gz\n"
     ]
    }
   ],
   "source": [
    "n_scenarios = 2000\n",
    "\n",
    "start = time.time()\n",
    "with MultiprocessingEvaluator(dike_model) as evaluator:\n",
    "    results = evaluator.perform_experiments(scenarios=n_scenarios, policies = policies)\n",
    "    end = time.time()\n",
    "print(round((end - start)/3600, 2), \"Hours\")\n",
    "save_results(results, \"MORO4pol.tar.gz\")"
   ]
  },
  {
   "cell_type": "code",
   "execution_count": null,
   "metadata": {},
   "outputs": [],
   "source": []
  }
 ],
 "metadata": {
  "kernelspec": {
   "display_name": "Python 3",
   "language": "python",
   "name": "python3"
  },
  "language_info": {
   "codemirror_mode": {
    "name": "ipython",
    "version": 3
   },
   "file_extension": ".py",
   "mimetype": "text/x-python",
   "name": "python",
   "nbconvert_exporter": "python",
   "pygments_lexer": "ipython3",
   "version": "3.7.3"
  }
 },
 "nbformat": 4,
 "nbformat_minor": 2
}
