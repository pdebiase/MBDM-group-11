{
 "cells": [
  {
   "cell_type": "markdown",
   "metadata": {},
   "source": [
    "# Explore worst case scenario\n",
    "\n",
    "Expore the worst case scenarios when \"doing nothing\" (zero policies).\n",
    "\n",
    "Steps:\n",
    "\n",
    "- Assign reference policy (with all levers = 0, i.e., the policy object `policy0`)\n",
    "- Change the directions of outcomes (so that the found solutions are \"undesirable\", or, the worst cases)\n",
    "- Run optimisation, search over uncertainties, and find the worst case scenarios"
   ]
  },
  {
   "cell_type": "code",
   "execution_count": 4,
   "metadata": {},
   "outputs": [],
   "source": [
    "import os\n",
    "\n",
    "if not os.path.exists('results'):\n",
    "    os.mkdir('results') # create folder for storing results if doesn't exist"
   ]
  },
  {
   "cell_type": "code",
   "execution_count": 1,
   "metadata": {},
   "outputs": [
    {
     "name": "stderr",
     "output_type": "stream",
     "text": [
      "C:\\ProgramData\\Anaconda3\\lib\\importlib\\_bootstrap.py:219: ImportWarning: can't resolve package from __spec__ or __package__, falling back on __name__ and __path__\n",
      "  return f(*args, **kwds)\n"
     ]
    },
    {
     "data": {
      "text/plain": [
       "<Logger EMA (DEBUG)>"
      ]
     },
     "execution_count": 1,
     "metadata": {},
     "output_type": "execute_result"
    }
   ],
   "source": [
    "import numpy as np\n",
    "import pandas as pd\n",
    "import matplotlib.pyplot as plt\n",
    "import seaborn as sns\n",
    "from ema_workbench import (MultiprocessingEvaluator, \n",
    "                           Scenario, Constraint, Policy,\n",
    "                           ScalarOutcome)\n",
    "from ema_workbench.em_framework.optimization import EpsilonProgress, HyperVolume\n",
    "from ema_workbench.em_framework.evaluators import perform_experiments, optimize\n",
    "from ema_workbench.util import ema_logging, save_results, load_results\n",
    "from ema_workbench.analysis import (pairs_plotting, prim, \n",
    "                                    feature_scoring, parcoords,\n",
    "                                    dimensional_stacking)\n",
    "\n",
    "from problem_formulation import get_model_for_problem_formulation\n",
    "%matplotlib inline\n",
    "\n",
    "ema_logging.log_to_stderr(ema_logging.INFO)"
   ]
  },
  {
   "cell_type": "code",
   "execution_count": 3,
   "metadata": {},
   "outputs": [],
   "source": [
    "'''\n",
    "For different list of outcomes:\n",
    "# 0 = 2-objective PF\n",
    "# 1 = 3-objective PF\n",
    "# 2 = 5-objective PF\n",
    "# 3 = Disaggregate over locations\n",
    "# 4 = Disaggregate over time\n",
    "# 5 = Fully disaggregated\n",
    "'''\n",
    "dike_model, planning_steps = get_model_for_problem_formulation(2) # assign problem_formulation_id"
   ]
  },
  {
   "cell_type": "code",
   "execution_count": 4,
   "metadata": {},
   "outputs": [
    {
     "name": "stdout",
     "output_type": "stream",
     "text": [
      "CategoricalParameter('discount rate 0', [0, 1, 2, 3])\n",
      "CategoricalParameter('discount rate 1', [0, 1, 2, 3])\n",
      "CategoricalParameter('discount rate 2', [0, 1, 2, 3])\n",
      "IntegerParameter('A.0_ID flood wave shape', 0, 132)\n",
      "RealParameter('A.1_Bmax', 30, 350)\n",
      "RealParameter('A.1_pfail', 0, 1)\n",
      "CategoricalParameter('A.1_Brate', [0, 1, 2])\n",
      "RealParameter('A.2_Bmax', 30, 350)\n",
      "RealParameter('A.2_pfail', 0, 1)\n",
      "CategoricalParameter('A.2_Brate', [0, 1, 2])\n",
      "RealParameter('A.3_Bmax', 30, 350)\n",
      "RealParameter('A.3_pfail', 0, 1)\n",
      "CategoricalParameter('A.3_Brate', [0, 1, 2])\n",
      "RealParameter('A.4_Bmax', 30, 350)\n",
      "RealParameter('A.4_pfail', 0, 1)\n",
      "CategoricalParameter('A.4_Brate', [0, 1, 2])\n",
      "RealParameter('A.5_Bmax', 30, 350)\n",
      "RealParameter('A.5_pfail', 0, 1)\n",
      "CategoricalParameter('A.5_Brate', [0, 1, 2])\n"
     ]
    }
   ],
   "source": [
    "for uncertainties in dike_model.uncertainties:\n",
    "    print(repr(uncertainties))"
   ]
  },
  {
   "cell_type": "code",
   "execution_count": 5,
   "metadata": {},
   "outputs": [],
   "source": [
    "# with no policies\n",
    "ref_policy = {'DikeIncrease': 0, 'DaysToThreat': 0, 'RfR': 0}\n",
    "\n",
    "policy0 = {}\n",
    "for key in dike_model.levers:\n",
    "    s1, s2 = key.name.split('_')\n",
    "    if ' ' in s2:\n",
    "        s2, s3 = s2.split(' ')\n",
    "    policy0.update({key.name: ref_policy[s2]})                \n",
    "\n",
    "policy0 = Policy('Policy 0', **policy0)"
   ]
  },
  {
   "cell_type": "code",
   "execution_count": 6,
   "metadata": {},
   "outputs": [],
   "source": [
    "# change outcomes so direction is undesirable\n",
    "minimize = ScalarOutcome.MINIMIZE\n",
    "maximize = ScalarOutcome.MAXIMIZE\n",
    "\n",
    "for outcome in dike_model.outcomes:\n",
    "    if outcome.kind == minimize:\n",
    "        outcome.kind = maximize\n",
    "    else:\n",
    "        outcome.kind = minimize"
   ]
  },
  {
   "cell_type": "code",
   "execution_count": 7,
   "metadata": {},
   "outputs": [
    {
     "name": "stdout",
     "output_type": "stream",
     "text": [
      "ScalarOutcome('Expected Annual Damage', variable_name=['A.1_Expected Annual Damage 0', 'A.2_Expected Annual Damage 0', 'A.3_Expected Annual Damage 0', 'A.4_Expected Annual Damage 0', 'A.5_Expected Annual Damage 0', 'A.1_Expected Annual Damage 1', 'A.2_Expected Annual Damage 1', 'A.3_Expected Annual Damage 1', 'A.4_Expected Annual Damage 1', 'A.5_Expected Annual Damage 1', 'A.1_Expected Annual Damage 2', 'A.2_Expected Annual Damage 2', 'A.3_Expected Annual Damage 2', 'A.4_Expected Annual Damage 2', 'A.5_Expected Annual Damage 2'], function=<function sum_over at 0x000002332F825378>)\n",
      "ScalarOutcome('Dike Investment Costs', variable_name=['A.1_Dike Investment Costs 0', 'A.2_Dike Investment Costs 0', 'A.3_Dike Investment Costs 0', 'A.4_Dike Investment Costs 0', 'A.5_Dike Investment Costs 0', 'A.1_Dike Investment Costs 1', 'A.2_Dike Investment Costs 1', 'A.3_Dike Investment Costs 1', 'A.4_Dike Investment Costs 1', 'A.5_Dike Investment Costs 1', 'A.1_Dike Investment Costs 2', 'A.2_Dike Investment Costs 2', 'A.3_Dike Investment Costs 2', 'A.4_Dike Investment Costs 2', 'A.5_Dike Investment Costs 2'], function=<function sum_over at 0x000002332F825378>)\n",
      "ScalarOutcome('RfR Investment Costs', variable_name=['RfR Total Costs 0', 'RfR Total Costs 1', 'RfR Total Costs 2'], function=<function sum_over at 0x000002332F825378>)\n",
      "ScalarOutcome('Evacuation Costs', variable_name=['Expected Evacuation Costs 0', 'Expected Evacuation Costs 1', 'Expected Evacuation Costs 2'], function=<function sum_over at 0x000002332F825378>)\n",
      "ScalarOutcome('Expected Number of Deaths', variable_name=['A.1_Expected Number of Deaths 0', 'A.2_Expected Number of Deaths 0', 'A.3_Expected Number of Deaths 0', 'A.4_Expected Number of Deaths 0', 'A.5_Expected Number of Deaths 0', 'A.1_Expected Number of Deaths 1', 'A.2_Expected Number of Deaths 1', 'A.3_Expected Number of Deaths 1', 'A.4_Expected Number of Deaths 1', 'A.5_Expected Number of Deaths 1', 'A.1_Expected Number of Deaths 2', 'A.2_Expected Number of Deaths 2', 'A.3_Expected Number of Deaths 2', 'A.4_Expected Number of Deaths 2', 'A.5_Expected Number of Deaths 2'], function=<function sum_over at 0x000002332F825378>)\n"
     ]
    }
   ],
   "source": [
    "for outcomes in dike_model.outcomes:\n",
    "    print(repr(outcomes))"
   ]
  },
  {
   "cell_type": "code",
   "execution_count": 8,
   "metadata": {},
   "outputs": [],
   "source": [
    "n_scenarios = 5000\n",
    "\n",
    "# Assign for five outcomes respectively:\n",
    "#  Expected annual damage, Dike investment costs : expect large values\n",
    "#  RfR investment costs, Evcauation costs, Expected number of deaths : expect values close to zero\n",
    "espilon = [1e2, 1e2, 1, 1, 1]\n",
    "convergence_metrics = [HyperVolume(minimum=[0, 0, 0, 0, 0], \n",
    "                                   maximum=[1e10, 6e9, 0.01, 0.01, 1]),\n",
    "                       EpsilonProgress()]"
   ]
  },
  {
   "cell_type": "code",
   "execution_count": 9,
   "metadata": {},
   "outputs": [
    {
     "name": "stderr",
     "output_type": "stream",
     "text": [
      "[MainProcess/INFO] pool started\n",
      "[MainProcess/INFO] generation 0: 0/5000 nfe\n",
      "[MainProcess/INFO] generation 5: 500/5000 nfe\n",
      "[MainProcess/INFO] generation 10: 1000/5000 nfe\n",
      "[MainProcess/INFO] generation 15: 1500/5000 nfe\n",
      "[MainProcess/INFO] generation 20: 2000/5000 nfe\n",
      "[MainProcess/INFO] generation 25: 2500/5000 nfe\n",
      "[MainProcess/INFO] generation 30: 3000/5000 nfe\n",
      "[MainProcess/INFO] generation 35: 3500/5000 nfe\n",
      "[MainProcess/INFO] generation 40: 4000/5000 nfe\n",
      "[MainProcess/INFO] generation 45: 4500/5000 nfe\n",
      "[MainProcess/INFO] optimization completed, found 2 solutions\n",
      "[MainProcess/INFO] terminating pool\n",
      "[MainProcess/INFO] results saved successfully to D:\\epa1361_open\\final assignment\\policy0 5000runs_worst case scenario.tar.gz\n"
     ]
    },
    {
     "name": "stdout",
     "output_type": "stream",
     "text": [
      "Wall time: 54min 29s\n"
     ]
    }
   ],
   "source": [
    "%%time\n",
    "with MultiprocessingEvaluator(dike_model) as evaluator:\n",
    "    results = evaluator.optimize(nfe=n_scenarios, \n",
    "                                 searchover='uncertainties',\n",
    "                                 epsilons=espilon,\n",
    "                                 convergence=convergence_metrics,\n",
    "                                 reference = policy0)\n",
    "\n",
    "save_results(results, './results/policy0 5000runs_worst case scenario.tar.gz')"
   ]
  },
  {
   "cell_type": "code",
   "execution_count": 10,
   "metadata": {},
   "outputs": [
    {
     "name": "stderr",
     "output_type": "stream",
     "text": [
      "[MainProcess/INFO] results loaded succesfully from D:\\epa1361_open\\final assignment\\policy0 5000runs_worst case scenario.tar.gz\n"
     ]
    }
   ],
   "source": [
    "results = load_results('./results/policy0 5000runs_worst case scenario.tar.gz')\n",
    "\n",
    "scenarios, convergence = results"
   ]
  },
  {
   "cell_type": "code",
   "execution_count": 11,
   "metadata": {},
   "outputs": [
    {
     "data": {
      "text/plain": [
       "Text(0.5, 0, 'number of function evaluations')"
      ]
     },
     "execution_count": 11,
     "metadata": {},
     "output_type": "execute_result"
    },
    {
     "data": {
      "image/png": "[encoded data removed]",
      "text/plain": [
       "<Figure size 576x288 with 2 Axes>"
      ]
     },
     "metadata": {
      "needs_background": "light"
     },
     "output_type": "display_data"
    }
   ],
   "source": [
    "# check convergence\n",
    "fig, (ax1, ax2) = plt.subplots(ncols=2, sharex=True, figsize=(8,4))\n",
    "ax1.plot(convergence['nfe'], convergence['epsilon_progress'])\n",
    "ax1.set_ylabel('$\\epsilon$-progress')\n",
    "ax2.plot(convergence['nfe'], convergence['hypervolume'])\n",
    "ax2.set_ylabel('hypervolume')\n",
    "\n",
    "ax1.set_xlabel('number of function evaluations')\n",
    "ax2.set_xlabel('number of function evaluations')"
   ]
  },
  {
   "cell_type": "code",
   "execution_count": 13,
   "metadata": {},
   "outputs": [
    {
     "data": {
      "text/html": [
       "<div>\n",
       "<style scoped>\n",
       "    .dataframe tbody tr th:only-of-type {\n",
       "        vertical-align: middle;\n",
       "    }\n",
       "\n",
       "    .dataframe tbody tr th {\n",
       "        vertical-align: top;\n",
       "    }\n",
       "\n",
       "    .dataframe thead th {\n",
       "        text-align: right;\n",
       "    }\n",
       "</style>\n",
       "<table border=\"1\" class=\"dataframe\">\n",
       "  <thead>\n",
       "    <tr style=\"text-align: right;\">\n",
       "      <th></th>\n",
       "      <th>discount rate 0</th>\n",
       "      <th>discount rate 1</th>\n",
       "      <th>discount rate 2</th>\n",
       "      <th>A.0_ID flood wave shape</th>\n",
       "      <th>A.1_Bmax</th>\n",
       "      <th>A.1_pfail</th>\n",
       "      <th>A.1_Brate</th>\n",
       "      <th>A.2_Bmax</th>\n",
       "      <th>A.2_pfail</th>\n",
       "      <th>A.2_Brate</th>\n",
       "      <th>...</th>\n",
       "      <th>A.4_pfail</th>\n",
       "      <th>A.4_Brate</th>\n",
       "      <th>A.5_Bmax</th>\n",
       "      <th>A.5_pfail</th>\n",
       "      <th>A.5_Brate</th>\n",
       "      <th>Expected Annual Damage</th>\n",
       "      <th>Dike Investment Costs</th>\n",
       "      <th>RfR Investment Costs</th>\n",
       "      <th>Evacuation Costs</th>\n",
       "      <th>Expected Number of Deaths</th>\n",
       "    </tr>\n",
       "  </thead>\n",
       "  <tbody>\n",
       "    <tr>\n",
       "      <th>0</th>\n",
       "      <td>Category('1.5', 1.5)</td>\n",
       "      <td>Category('1.5', 1.5)</td>\n",
       "      <td>Category('1.5', 1.5)</td>\n",
       "      <td>34</td>\n",
       "      <td>30.178195</td>\n",
       "      <td>0.169120</td>\n",
       "      <td>Category('1.5', 1.5)</td>\n",
       "      <td>39.588324</td>\n",
       "      <td>0.000626</td>\n",
       "      <td>Category('1.0', 1.0)</td>\n",
       "      <td>...</td>\n",
       "      <td>0.726142</td>\n",
       "      <td>Category('1.5', 1.5)</td>\n",
       "      <td>32.465404</td>\n",
       "      <td>0.000006</td>\n",
       "      <td>Category('1.0', 1.0)</td>\n",
       "      <td>9.406121e+09</td>\n",
       "      <td>0</td>\n",
       "      <td>0.0</td>\n",
       "      <td>0.0</td>\n",
       "      <td>6.952634</td>\n",
       "    </tr>\n",
       "    <tr>\n",
       "      <th>1</th>\n",
       "      <td>Category('1.5', 1.5)</td>\n",
       "      <td>Category('2.5', 2.5)</td>\n",
       "      <td>Category('2.5', 2.5)</td>\n",
       "      <td>105</td>\n",
       "      <td>30.254663</td>\n",
       "      <td>0.296934</td>\n",
       "      <td>Category('1.5', 1.5)</td>\n",
       "      <td>30.017333</td>\n",
       "      <td>0.001485</td>\n",
       "      <td>Category('1.5', 1.5)</td>\n",
       "      <td>...</td>\n",
       "      <td>0.894234</td>\n",
       "      <td>Category('1.5', 1.5)</td>\n",
       "      <td>178.386627</td>\n",
       "      <td>0.000007</td>\n",
       "      <td>Category('1.5', 1.5)</td>\n",
       "      <td>8.053987e+09</td>\n",
       "      <td>0</td>\n",
       "      <td>0.0</td>\n",
       "      <td>0.0</td>\n",
       "      <td>7.044994</td>\n",
       "    </tr>\n",
       "  </tbody>\n",
       "</table>\n",
       "<p>2 rows × 24 columns</p>\n",
       "</div>"
      ],
      "text/plain": [
       "        discount rate 0       discount rate 1       discount rate 2  \\\n",
       "0  Category('1.5', 1.5)  Category('1.5', 1.5)  Category('1.5', 1.5)   \n",
       "1  Category('1.5', 1.5)  Category('2.5', 2.5)  Category('2.5', 2.5)   \n",
       "\n",
       "   A.0_ID flood wave shape   A.1_Bmax  A.1_pfail             A.1_Brate  \\\n",
       "0                       34  30.178195   0.169120  Category('1.5', 1.5)   \n",
       "1                      105  30.254663   0.296934  Category('1.5', 1.5)   \n",
       "\n",
       "    A.2_Bmax  A.2_pfail             A.2_Brate  ...  A.4_pfail  \\\n",
       "0  39.588324   0.000626  Category('1.0', 1.0)  ...   0.726142   \n",
       "1  30.017333   0.001485  Category('1.5', 1.5)  ...   0.894234   \n",
       "\n",
       "              A.4_Brate    A.5_Bmax  A.5_pfail             A.5_Brate  \\\n",
       "0  Category('1.5', 1.5)   32.465404   0.000006  Category('1.0', 1.0)   \n",
       "1  Category('1.5', 1.5)  178.386627   0.000007  Category('1.5', 1.5)   \n",
       "\n",
       "  Expected Annual Damage  Dike Investment Costs  RfR Investment Costs  \\\n",
       "0           9.406121e+09                      0                   0.0   \n",
       "1           8.053987e+09                      0                   0.0   \n",
       "\n",
       "  Evacuation Costs  Expected Number of Deaths  \n",
       "0              0.0                   6.952634  \n",
       "1              0.0                   7.044994  \n",
       "\n",
       "[2 rows x 24 columns]"
      ]
     },
     "execution_count": 13,
     "metadata": {},
     "output_type": "execute_result"
    }
   ],
   "source": [
    "# take a look at the results (only 2 solutions found!)\n",
    "scenarios"
   ]
  },
  {
   "cell_type": "code",
   "execution_count": 16,
   "metadata": {},
   "outputs": [
    {
     "name": "stderr",
     "output_type": "stream",
     "text": [
      "C:\\ProgramData\\Anaconda3\\lib\\site-packages\\sklearn\\preprocessing\\data.py:334: DataConversionWarning: Data with input dtype int64, float64 were all converted to float64 by MinMaxScaler.\n",
      "  return self.partial_fit(X, y)\n"
     ]
    },
    {
     "data": {
      "image/png": "[encoded data removed]",
      "text/plain": [
       "<Figure size 432x288 with 4 Axes>"
      ]
     },
     "metadata": {},
     "output_type": "display_data"
    }
   ],
   "source": [
    "# show the relation among outcomes\n",
    "outcomes = scenarios.loc[:, [o.name for o in dike_model.outcomes]]\n",
    "limits = parcoords.get_limits(outcomes)\n",
    "\n",
    "paraxes = parcoords.ParallelAxes(limits, fontsize=9)\n",
    "paraxes.plot(outcomes)"
   ]
  }
 ],
 "metadata": {
  "kernelspec": {
   "display_name": "Python 3",
   "language": "python",
   "name": "python3"
  },
  "language_info": {
   "codemirror_mode": {
    "name": "ipython",
    "version": 3
   },
   "file_extension": ".py",
   "mimetype": "text/x-python",
   "name": "python",
   "nbconvert_exporter": "python",
   "pygments_lexer": "ipython3",
   "version": "3.6.8"
  }
 },
 "nbformat": 4,
 "nbformat_minor": 2
}
