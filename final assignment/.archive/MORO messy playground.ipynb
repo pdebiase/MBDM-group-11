{
 "cells": [
  {
   "cell_type": "code",
   "execution_count": 1,
   "metadata": {},
   "outputs": [
    {
     "name": "stderr",
     "output_type": "stream",
     "text": [
      "C:\\ProgramData\\Anaconda3\\lib\\importlib\\_bootstrap.py:219: ImportWarning: can't resolve package from __spec__ or __package__, falling back on __name__ and __path__\n",
      "  return f(*args, **kwds)\n"
     ]
    }
   ],
   "source": [
    "import numpy as np\n",
    "import pandas as pd\n",
    "import matplotlib.pyplot as plt\n",
    "import seaborn as sns\n",
    "from ema_workbench import (MultiprocessingEvaluator, \n",
    "                           Scenario, Constraint, Policy,\n",
    "                           ScalarOutcome)\n",
    "from ema_workbench.em_framework.optimization import EpsilonProgress, HyperVolume\n",
    "from ema_workbench.em_framework.evaluators import (perform_experiments, optimize,\n",
    "                                                   BaseEvaluator)\n",
    "from ema_workbench.util import ema_logging, save_results, load_results\n",
    "from ema_workbench.analysis import (pairs_plotting, prim, \n",
    "                                    feature_scoring, parcoords,\n",
    "                                    dimensional_stacking)\n",
    "\n",
    "from problem_formulation import get_model_for_problem_formulation\n",
    "%matplotlib inline\n",
    "\n",
    "ema_logging.log_to_stderr(ema_logging.INFO)\n",
    "\n",
    "BaseEvaluator.reporting_frequency = 0.01"
   ]
  },
  {
   "cell_type": "code",
   "execution_count": 2,
   "metadata": {},
   "outputs": [],
   "source": [
    "'''\n",
    "For different list of outcomes:\n",
    "# 0 = 2-objective PF\n",
    "# 1 = 3-objective PF\n",
    "# 2 = 5-objective PF\n",
    "# 3 = Disaggregate over locations\n",
    "# 4 = Disaggregate over time\n",
    "# 5 = Fully disaggregated\n",
    "'''\n",
    "dike_model, planning_steps = get_model_for_problem_formulation(1) # assign problem_formulation_id"
   ]
  },
  {
   "cell_type": "code",
   "execution_count": 3,
   "metadata": {},
   "outputs": [],
   "source": [
    "def percentile90(damage):\n",
    "    return np.percentile(damage, q=90)/1e9 #in billion\n",
    "\n",
    "def raw_costs_billion(investment):\n",
    "    return investment.max()/1e9 #in billion\n",
    "\n",
    "def nrdeath_filter(deaths):\n",
    "    nrdeath = deaths.max() if deaths.max() < 1 else 1\n",
    "    return nrdeath"
   ]
  },
  {
   "cell_type": "code",
   "execution_count": 4,
   "metadata": {},
   "outputs": [],
   "source": [
    "MAXIMIZE = ScalarOutcome.MAXIMIZE\n",
    "MINIMIZE = ScalarOutcome.MINIMIZE \n",
    "\n",
    "robustness_functions = [ScalarOutcome('Expected Annual Damage', kind=MINIMIZE,\n",
    "                             variable_name='Expected Annual Damage', function = percentile90),\n",
    "                        ScalarOutcome('Total Investment Costs', kind=MINIMIZE,\n",
    "                             variable_name='Total Investment Costs', function = raw_costs_billion),\n",
    "                        ScalarOutcome('Expected Number of Deaths', kind=MINIMIZE,\n",
    "                             variable_name='Expected Number of Deaths', function = nrdeath_filter)]"
   ]
  },
  {
   "cell_type": "code",
   "execution_count": 5,
   "metadata": {},
   "outputs": [],
   "source": [
    "from ema_workbench.em_framework import sample_uncertainties\n",
    "\n",
    "n_scenarios = 3\n",
    "ref_scenarios = sample_uncertainties(dike_model, n_scenarios)"
   ]
  },
  {
   "cell_type": "code",
   "execution_count": 6,
   "metadata": {},
   "outputs": [],
   "source": [
    "nfe = 500\n",
    "\n",
    "epsilon = [0.2, 0.2, 0.1]\n",
    "\n",
    "convergence_metrics = [HyperVolume(minimum=[0,0,0], maximum=[3, 3, 1.01]),\n",
    "                       EpsilonProgress()]"
   ]
  },
  {
   "cell_type": "code",
   "execution_count": 7,
   "metadata": {},
   "outputs": [
    {
     "name": "stderr",
     "output_type": "stream",
     "text": [
      "[MainProcess/INFO] pool started\n",
      "[MainProcess/INFO] generation 0: 0/500 nfe\n",
      "[MainProcess/INFO] generation 1: 100/500 nfe\n",
      "[MainProcess/INFO] generation 2: 198/500 nfe\n",
      "[MainProcess/INFO] generation 3: 298/500 nfe\n",
      "[MainProcess/INFO] generation 4: 398/500 nfe\n",
      "[MainProcess/INFO] generation 5: 498/500 nfe\n",
      "[MainProcess/INFO] optimization completed, found 1 solutions\n",
      "[MainProcess/INFO] terminating pool\n",
      "[MainProcess/INFO] results saved successfully to D:\\EPA\\EPA Semester-1.4\\EPA1361 Model-based Decision-making\\MBDM-group-11\\final assignment\\results\\robust_opt_500nfe_3scenario.tar.gz\n"
     ]
    },
    {
     "name": "stdout",
     "output_type": "stream",
     "text": [
      "Wall time: 22min 50s\n"
     ]
    }
   ],
   "source": [
    "%%time\n",
    "\n",
    "with MultiprocessingEvaluator(dike_model) as evaluator:\n",
    "    results = evaluator.robust_optimize(robustness_functions, ref_scenarios,\n",
    "                                        nfe=nfe, convergence=convergence_metrics, epsilons=epsilon,\n",
    "                                        convergence_freq=100, logging_freq=1)\n",
    "    \n",
    "save_results(results, './results/robust_opt_500nfe_3scenario.tar.gz')"
   ]
  },
  {
   "cell_type": "code",
   "execution_count": 9,
   "metadata": {},
   "outputs": [
    {
     "name": "stderr",
     "output_type": "stream",
     "text": [
      "[MainProcess/INFO] results loaded succesfully from D:\\EPA\\EPA Semester-1.4\\EPA1361 Model-based Decision-making\\MBDM-group-11\\final assignment\\results\\robust_opt_500nfe_3scenario.tar.gz\n"
     ]
    }
   ],
   "source": [
    "results = load_results('./results/robust_opt_500nfe_3scenario.tar.gz')\n",
    "experiments, convergence = results"
   ]
  },
  {
   "cell_type": "code",
   "execution_count": 10,
   "metadata": {},
   "outputs": [
    {
     "data": {
      "text/plain": [
       "Text(0.5, 0, 'number of function evaluations')"
      ]
     },
     "execution_count": 10,
     "metadata": {},
     "output_type": "execute_result"
    },
    {
     "data": {
      "image/png": "[encoded data removed]",
      "text/plain": [
       "<Figure size 576x288 with 2 Axes>"
      ]
     },
     "metadata": {
      "needs_background": "light"
     },
     "output_type": "display_data"
    }
   ],
   "source": [
    "# check convergence (the workbench failed to save the convergence results)\n",
    "fig, (ax1, ax2) = plt.subplots(ncols=2, sharex=True, figsize=(8,4))\n",
    "ax1.plot(convergence['nfe'], convergence['epsilon_progress'])\n",
    "ax1.set_ylabel('$\\epsilon$-progress')\n",
    "ax2.plot(convergence['nfe'], convergence['hypervolume'])\n",
    "ax2.set_ylabel('hypervolume')\n",
    "\n",
    "ax1.set_xlabel('number of function evaluations')\n",
    "ax2.set_xlabel('number of function evaluations')"
   ]
  },
  {
   "cell_type": "code",
   "execution_count": 11,
   "metadata": {},
   "outputs": [
    {
     "name": "stderr",
     "output_type": "stream",
     "text": [
      "[MainProcess/INFO] pool started\n",
      "[MainProcess/INFO] generation 0: 0/500 nfe\n",
      "[MainProcess/INFO] generation 1: 100/500 nfe\n",
      "[MainProcess/INFO] generation 2: 200/500 nfe\n",
      "[MainProcess/INFO] generation 3: 299/500 nfe\n",
      "[MainProcess/INFO] generation 4: 399/500 nfe\n",
      "[MainProcess/INFO] generation 5: 499/500 nfe\n",
      "[MainProcess/INFO] optimization completed, found 1 solutions\n",
      "[MainProcess/INFO] terminating pool\n",
      "[MainProcess/INFO] results saved successfully to D:\\EPA\\EPA Semester-1.4\\EPA1361 Model-based Decision-making\\MBDM-group-11\\final assignment\\results\\robust_opt_500nfe_3scenario_freq.tar.gz\n"
     ]
    },
    {
     "name": "stdout",
     "output_type": "stream",
     "text": [
      "Wall time: 18min 57s\n"
     ]
    }
   ],
   "source": [
    "%%time\n",
    "\n",
    "with MultiprocessingEvaluator(dike_model) as evaluator:\n",
    "    results = evaluator.robust_optimize(robustness_functions, ref_scenarios,\n",
    "                                        nfe=nfe, convergence=convergence_metrics, epsilons=epsilon,\n",
    "                                        convergence_freq=10, logging_freq=1)\n",
    "    \n",
    "save_results(results, './results/robust_opt_500nfe_3scenario_freq.tar.gz')"
   ]
  },
  {
   "cell_type": "code",
   "execution_count": 12,
   "metadata": {},
   "outputs": [
    {
     "name": "stderr",
     "output_type": "stream",
     "text": [
      "[MainProcess/INFO] results loaded succesfully from D:\\EPA\\EPA Semester-1.4\\EPA1361 Model-based Decision-making\\MBDM-group-11\\final assignment\\results\\robust_opt_500nfe_3scenario_freq.tar.gz\n"
     ]
    }
   ],
   "source": [
    "results = load_results('./results/robust_opt_500nfe_3scenario_freq.tar.gz')\n",
    "experiments, convergence = results"
   ]
  },
  {
   "cell_type": "code",
   "execution_count": 13,
   "metadata": {},
   "outputs": [
    {
     "data": {
      "text/plain": [
       "Text(0.5, 0, 'number of function evaluations')"
      ]
     },
     "execution_count": 13,
     "metadata": {},
     "output_type": "execute_result"
    },
    {
     "data": {
      "image/png": "[encoded data removed]",
      "text/plain": [
       "<Figure size 576x288 with 2 Axes>"
      ]
     },
     "metadata": {
      "needs_background": "light"
     },
     "output_type": "display_data"
    }
   ],
   "source": [
    "# check convergence (the workbench failed to save the convergence results)\n",
    "fig, (ax1, ax2) = plt.subplots(ncols=2, sharex=True, figsize=(8,4))\n",
    "ax1.plot(convergence['nfe'], convergence['epsilon_progress'])\n",
    "ax1.set_ylabel('$\\epsilon$-progress')\n",
    "ax2.plot(convergence['nfe'], convergence['hypervolume'])\n",
    "ax2.set_ylabel('hypervolume')\n",
    "\n",
    "ax1.set_xlabel('number of function evaluations')\n",
    "ax2.set_xlabel('number of function evaluations')"
   ]
  },
  {
   "cell_type": "markdown",
   "metadata": {},
   "source": [
    "# Larger nfe's"
   ]
  },
  {
   "cell_type": "code",
   "execution_count": 14,
   "metadata": {},
   "outputs": [],
   "source": [
    "nfe = 1000\n",
    "\n",
    "epsilon = [0.2, 0.2, 0.1]\n",
    "\n",
    "convergence_metrics = [HyperVolume(minimum=[0,0,0], maximum=[3, 3, 1.01]),\n",
    "                       EpsilonProgress()]"
   ]
  },
  {
   "cell_type": "code",
   "execution_count": 15,
   "metadata": {},
   "outputs": [
    {
     "name": "stderr",
     "output_type": "stream",
     "text": [
      "[MainProcess/INFO] pool started\n",
      "[MainProcess/INFO] generation 0: 0/1000 nfe\n",
      "[MainProcess/INFO] generation 1: 100/1000 nfe\n",
      "[MainProcess/INFO] generation 2: 200/1000 nfe\n",
      "[MainProcess/INFO] generation 3: 300/1000 nfe\n",
      "[MainProcess/INFO] generation 4: 400/1000 nfe\n",
      "[MainProcess/INFO] generation 5: 500/1000 nfe\n",
      "[MainProcess/INFO] generation 6: 600/1000 nfe\n",
      "[MainProcess/INFO] generation 7: 700/1000 nfe\n",
      "[MainProcess/INFO] generation 8: 800/1000 nfe\n",
      "[MainProcess/INFO] generation 9: 897/1000 nfe\n",
      "[MainProcess/INFO] generation 10: 997/1000 nfe\n",
      "[MainProcess/INFO] optimization completed, found 1 solutions\n",
      "[MainProcess/INFO] terminating pool\n",
      "[MainProcess/INFO] results saved successfully to D:\\EPA\\EPA Semester-1.4\\EPA1361 Model-based Decision-making\\MBDM-group-11\\final assignment\\results\\robust_opt_1000nfe_3scenario_freq.tar.gz\n"
     ]
    },
    {
     "name": "stdout",
     "output_type": "stream",
     "text": [
      "Wall time: 32min 18s\n"
     ]
    }
   ],
   "source": [
    "%%time\n",
    "\n",
    "with MultiprocessingEvaluator(dike_model) as evaluator:\n",
    "    results = evaluator.robust_optimize(robustness_functions, ref_scenarios,\n",
    "                                        nfe=nfe, convergence=convergence_metrics, epsilons=epsilon,\n",
    "                                        convergence_freq=10, logging_freq=1)\n",
    "    \n",
    "save_results(results, './results/robust_opt_1000nfe_3scenario_freq.tar.gz')"
   ]
  },
  {
   "cell_type": "code",
   "execution_count": 16,
   "metadata": {},
   "outputs": [
    {
     "name": "stderr",
     "output_type": "stream",
     "text": [
      "[MainProcess/INFO] results loaded succesfully from D:\\EPA\\EPA Semester-1.4\\EPA1361 Model-based Decision-making\\MBDM-group-11\\final assignment\\results\\robust_opt_1000nfe_3scenario_freq.tar.gz\n"
     ]
    }
   ],
   "source": [
    "results = load_results('./results/robust_opt_1000nfe_3scenario_freq.tar.gz')\n",
    "experiments, convergence = results"
   ]
  },
  {
   "cell_type": "code",
   "execution_count": 17,
   "metadata": {},
   "outputs": [
    {
     "data": {
      "text/plain": [
       "Text(0.5, 0, 'number of function evaluations')"
      ]
     },
     "execution_count": 17,
     "metadata": {},
     "output_type": "execute_result"
    },
    {
     "data": {
      "image/png": "[encoded data removed]",
      "text/plain": [
       "<Figure size 576x288 with 2 Axes>"
      ]
     },
     "metadata": {
      "needs_background": "light"
     },
     "output_type": "display_data"
    }
   ],
   "source": [
    "# check convergence (the workbench failed to save the convergence results)\n",
    "fig, (ax1, ax2) = plt.subplots(ncols=2, sharex=True, figsize=(8,4))\n",
    "ax1.plot(convergence['nfe'], convergence['epsilon_progress'])\n",
    "ax1.set_ylabel('$\\epsilon$-progress')\n",
    "ax2.plot(convergence['nfe'], convergence['hypervolume'])\n",
    "ax2.set_ylabel('hypervolume')\n",
    "\n",
    "ax1.set_xlabel('number of function evaluations')\n",
    "ax2.set_xlabel('number of function evaluations')"
   ]
  },
  {
   "cell_type": "code",
   "execution_count": 18,
   "metadata": {},
   "outputs": [],
   "source": [
    "nfe = 10000\n",
    "\n",
    "epsilon = [0.2, 0.2, 0.1]\n",
    "\n",
    "convergence_metrics = [HyperVolume(minimum=[0,0,0], maximum=[3, 3, 1.01]),\n",
    "                       EpsilonProgress()]"
   ]
  },
  {
   "cell_type": "code",
   "execution_count": 19,
   "metadata": {},
   "outputs": [
    {
     "name": "stderr",
     "output_type": "stream",
     "text": [
      "[MainProcess/INFO] pool started\n",
      "[MainProcess/INFO] generation 0: 0/10000 nfe\n",
      "[MainProcess/INFO] generation 1: 100/10000 nfe\n",
      "[MainProcess/INFO] generation 2: 197/10000 nfe\n",
      "[MainProcess/INFO] generation 3: 297/10000 nfe\n",
      "[MainProcess/INFO] generation 4: 397/10000 nfe\n",
      "[MainProcess/INFO] generation 5: 495/10000 nfe\n",
      "[MainProcess/INFO] generation 6: 595/10000 nfe\n",
      "[MainProcess/INFO] generation 7: 695/10000 nfe\n",
      "[MainProcess/INFO] generation 8: 795/10000 nfe\n",
      "[MainProcess/INFO] generation 9: 895/10000 nfe\n",
      "[MainProcess/INFO] generation 10: 995/10000 nfe\n",
      "[MainProcess/INFO] generation 11: 1093/10000 nfe\n",
      "[MainProcess/INFO] generation 12: 1192/10000 nfe\n",
      "[MainProcess/INFO] generation 13: 1292/10000 nfe\n",
      "[MainProcess/INFO] generation 14: 1392/10000 nfe\n",
      "[MainProcess/INFO] generation 15: 1492/10000 nfe\n",
      "[MainProcess/INFO] generation 16: 1590/10000 nfe\n",
      "[MainProcess/INFO] generation 17: 1687/10000 nfe\n",
      "[MainProcess/INFO] generation 18: 1787/10000 nfe\n",
      "[MainProcess/INFO] generation 19: 1886/10000 nfe\n",
      "[MainProcess/INFO] generation 20: 1986/10000 nfe\n",
      "[MainProcess/INFO] generation 21: 2085/10000 nfe\n",
      "[MainProcess/INFO] generation 22: 2183/10000 nfe\n",
      "[MainProcess/INFO] generation 23: 2283/10000 nfe\n",
      "[MainProcess/INFO] generation 24: 2383/10000 nfe\n",
      "[MainProcess/INFO] generation 25: 2482/10000 nfe\n",
      "[MainProcess/INFO] generation 26: 2582/10000 nfe\n",
      "[MainProcess/INFO] generation 27: 2682/10000 nfe\n",
      "[MainProcess/INFO] generation 28: 2782/10000 nfe\n",
      "[MainProcess/INFO] generation 29: 2882/10000 nfe\n",
      "[MainProcess/INFO] generation 30: 2982/10000 nfe\n",
      "[MainProcess/INFO] generation 31: 3081/10000 nfe\n",
      "[MainProcess/INFO] generation 32: 3181/10000 nfe\n",
      "[MainProcess/INFO] generation 33: 3280/10000 nfe\n",
      "[MainProcess/INFO] generation 34: 3380/10000 nfe\n",
      "[MainProcess/INFO] generation 35: 3480/10000 nfe\n",
      "[MainProcess/INFO] generation 36: 3580/10000 nfe\n",
      "[MainProcess/INFO] generation 37: 3679/10000 nfe\n",
      "[MainProcess/INFO] generation 38: 3779/10000 nfe\n",
      "[MainProcess/INFO] generation 39: 3878/10000 nfe\n",
      "[MainProcess/INFO] generation 40: 3975/10000 nfe\n",
      "[MainProcess/INFO] generation 41: 4075/10000 nfe\n",
      "[MainProcess/INFO] generation 42: 4173/10000 nfe\n",
      "[MainProcess/INFO] generation 43: 4273/10000 nfe\n",
      "[MainProcess/INFO] generation 44: 4373/10000 nfe\n",
      "[MainProcess/INFO] generation 45: 4471/10000 nfe\n",
      "[MainProcess/INFO] generation 46: 4569/10000 nfe\n",
      "[MainProcess/INFO] generation 47: 4666/10000 nfe\n",
      "[MainProcess/INFO] generation 48: 4763/10000 nfe\n",
      "[MainProcess/INFO] generation 49: 4861/10000 nfe\n",
      "[MainProcess/INFO] generation 50: 4960/10000 nfe\n",
      "[MainProcess/INFO] generation 51: 5055/10000 nfe\n",
      "[MainProcess/INFO] generation 52: 5154/10000 nfe\n",
      "[MainProcess/INFO] generation 53: 5252/10000 nfe\n",
      "[MainProcess/INFO] generation 54: 5351/10000 nfe\n",
      "[MainProcess/INFO] generation 55: 5448/10000 nfe\n",
      "[MainProcess/INFO] generation 56: 5547/10000 nfe\n",
      "[MainProcess/INFO] generation 57: 5642/10000 nfe\n",
      "[MainProcess/INFO] generation 58: 5737/10000 nfe\n",
      "[MainProcess/INFO] generation 59: 5829/10000 nfe\n",
      "[MainProcess/INFO] generation 60: 5928/10000 nfe\n",
      "[MainProcess/INFO] generation 61: 6020/10000 nfe\n",
      "[MainProcess/INFO] generation 62: 6114/10000 nfe\n",
      "[MainProcess/INFO] generation 63: 6209/10000 nfe\n",
      "[MainProcess/INFO] generation 64: 6303/10000 nfe\n",
      "[MainProcess/INFO] generation 65: 6399/10000 nfe\n",
      "[MainProcess/INFO] generation 66: 6493/10000 nfe\n",
      "[MainProcess/INFO] generation 67: 6588/10000 nfe\n",
      "[MainProcess/INFO] generation 68: 6682/10000 nfe\n",
      "[MainProcess/INFO] generation 69: 6778/10000 nfe\n",
      "[MainProcess/INFO] generation 70: 6873/10000 nfe\n",
      "[MainProcess/INFO] generation 71: 6969/10000 nfe\n",
      "[MainProcess/INFO] generation 72: 7065/10000 nfe\n",
      "[MainProcess/INFO] generation 73: 7160/10000 nfe\n",
      "[MainProcess/INFO] generation 74: 7252/10000 nfe\n",
      "[MainProcess/INFO] generation 75: 7341/10000 nfe\n",
      "[MainProcess/INFO] generation 76: 7440/10000 nfe\n",
      "[MainProcess/INFO] generation 77: 7538/10000 nfe\n",
      "[MainProcess/INFO] generation 78: 7635/10000 nfe\n",
      "[MainProcess/INFO] generation 79: 7733/10000 nfe\n",
      "[MainProcess/INFO] generation 80: 7826/10000 nfe\n",
      "[MainProcess/INFO] generation 81: 7923/10000 nfe\n",
      "[MainProcess/INFO] generation 82: 8021/10000 nfe\n",
      "[MainProcess/INFO] generation 83: 8119/10000 nfe\n",
      "[MainProcess/INFO] generation 84: 8213/10000 nfe\n",
      "[MainProcess/INFO] generation 85: 8312/10000 nfe\n",
      "[MainProcess/INFO] generation 86: 8408/10000 nfe\n",
      "[MainProcess/INFO] generation 87: 8506/10000 nfe\n",
      "[MainProcess/INFO] generation 88: 8602/10000 nfe\n",
      "[MainProcess/INFO] generation 89: 8698/10000 nfe\n",
      "[MainProcess/INFO] generation 90: 8794/10000 nfe\n",
      "[MainProcess/INFO] generation 91: 8888/10000 nfe\n",
      "[MainProcess/INFO] generation 92: 8986/10000 nfe\n",
      "[MainProcess/INFO] generation 93: 9084/10000 nfe\n",
      "[MainProcess/INFO] generation 94: 9183/10000 nfe\n",
      "[MainProcess/INFO] generation 95: 9281/10000 nfe\n",
      "[MainProcess/INFO] generation 96: 9377/10000 nfe\n",
      "[MainProcess/INFO] generation 97: 9476/10000 nfe\n",
      "[MainProcess/INFO] generation 98: 9575/10000 nfe\n",
      "[MainProcess/INFO] generation 99: 9673/10000 nfe\n",
      "[MainProcess/INFO] generation 100: 9770/10000 nfe\n",
      "[MainProcess/INFO] generation 101: 9868/10000 nfe\n",
      "[MainProcess/INFO] generation 102: 9968/10000 nfe\n",
      "[MainProcess/INFO] optimization completed, found 1 solutions\n",
      "[MainProcess/INFO] terminating pool\n",
      "[MainProcess/INFO] results saved successfully to D:\\EPA\\EPA Semester-1.4\\EPA1361 Model-based Decision-making\\MBDM-group-11\\final assignment\\results\\robust_opt_10000nfe_3scenario_freq.tar.gz\n"
     ]
    },
    {
     "name": "stdout",
     "output_type": "stream",
     "text": [
      "Wall time: 5h 9min 10s\n"
     ]
    }
   ],
   "source": [
    "%%time\n",
    "\n",
    "with MultiprocessingEvaluator(dike_model) as evaluator:\n",
    "    results = evaluator.robust_optimize(robustness_functions, ref_scenarios,\n",
    "                                        nfe=nfe, convergence=convergence_metrics, epsilons=epsilon,\n",
    "                                        convergence_freq=10, logging_freq=1)\n",
    "    \n",
    "save_results(results, './results/robust_opt_10000nfe_3scenario_freq.tar.gz')"
   ]
  },
  {
   "cell_type": "code",
   "execution_count": 20,
   "metadata": {},
   "outputs": [
    {
     "name": "stderr",
     "output_type": "stream",
     "text": [
      "[MainProcess/INFO] results loaded succesfully from D:\\EPA\\EPA Semester-1.4\\EPA1361 Model-based Decision-making\\MBDM-group-11\\final assignment\\results\\robust_opt_10000nfe_3scenario_freq.tar.gz\n"
     ]
    }
   ],
   "source": [
    "results = load_results('./results/robust_opt_10000nfe_3scenario_freq.tar.gz')\n",
    "experiments, convergence = results"
   ]
  },
  {
   "cell_type": "code",
   "execution_count": 21,
   "metadata": {},
   "outputs": [
    {
     "data": {
      "text/plain": [
       "Text(0.5, 0, 'number of function evaluations')"
      ]
     },
     "execution_count": 21,
     "metadata": {},
     "output_type": "execute_result"
    },
    {
     "data": {
      "image/png": "[encoded data removed]",
      "text/plain": [
       "<Figure size 576x288 with 2 Axes>"
      ]
     },
     "metadata": {
      "needs_background": "light"
     },
     "output_type": "display_data"
    }
   ],
   "source": [
    "# check convergence (the workbench failed to save the convergence results)\n",
    "fig, (ax1, ax2) = plt.subplots(ncols=2, sharex=True, figsize=(8,4))\n",
    "ax1.plot(convergence['nfe'], convergence['epsilon_progress'])\n",
    "ax1.set_ylabel('$\\epsilon$-progress')\n",
    "ax2.plot(convergence['nfe'], convergence['hypervolume'])\n",
    "ax2.set_ylabel('hypervolume')\n",
    "\n",
    "ax1.set_xlabel('number of function evaluations')\n",
    "ax2.set_xlabel('number of function evaluations')"
   ]
  },
  {
   "cell_type": "code",
   "execution_count": null,
   "metadata": {},
   "outputs": [],
   "source": []
  }
 ],
 "metadata": {
  "kernelspec": {
   "display_name": "Python 3",
   "language": "python",
   "name": "python3"
  },
  "language_info": {
   "codemirror_mode": {
    "name": "ipython",
    "version": 3
   },
   "file_extension": ".py",
   "mimetype": "text/x-python",
   "name": "python",
   "nbconvert_exporter": "python",
   "pygments_lexer": "ipython3",
   "version": "3.6.8"
  }
 },
 "nbformat": 4,
 "nbformat_minor": 2
}
