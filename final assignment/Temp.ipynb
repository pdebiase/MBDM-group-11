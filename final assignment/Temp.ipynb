{
 "cells": [
  {
   "cell_type": "code",
   "execution_count": null,
   "metadata": {},
   "outputs": [],
   "source": [
    "# # No rfr in locations 1,2 and 5 \n",
    "\n",
    "# dike_model.constants = [Constant('0_RfR 1',0)]\n",
    "# dike_model.constants = [Constant('0_RfR 2',0)]\n",
    "# dike_model.constants = [Constant('1_RfR 1',0)]\n",
    "# dike_model.constants = [Constant('1_RfR 2',0)]\n",
    "# # dike_model.constants = [Constant('2_RfR 1',0)]\n",
    "# # dike_model.constants = [Constant('2_RfR 2',0)]\n",
    "# # dike_model.constants = [Constant('3_RfR 1',0)]\n",
    "# # dike_model.constants = [Constant('3_RfR 2',0)]\n",
    "# # dike_model.constants = [Constant('4_RfR 1',0)]\n",
    "# # dike_model.constants = [Constant('4_RfR 2',0)]\n",
    "\n",
    "# # No dike heightening in locations 3 and 5\n",
    "\n",
    "# # dike_model.constants = [Constant('A.1_DikeIncrease 1',0)]\n",
    "# # dike_model.constants = [Constant('A.1_DikeIncrease 2',0)]\n",
    "# # dike_model.constants = [Constant('A.2_DikeIncrease 1',0)]\n",
    "# # dike_model.constants = [Constant('A.2_DikeIncrease 2',0)]\n",
    "# dike_model.constants = [Constant('A.3_DikeIncrease 1',0)]\n",
    "# dike_model.constants = [Constant('A.3_DikeIncrease 2',0)]\n",
    "# # dike_model.constants = [Constant('A.4_DikeIncrease 1',0)]\n",
    "# # dike_model.constants = [Constant('A.4_DikeIncrease 2',0)]\n",
    "# dike_model.constants = [Constant('A.5_DikeIncrease 1',0)]\n",
    "# dike_model.constants = [Constant('A.5_DikeIncrease 2',0)]\n",
    "\n",
    "# # No early warning nowhere \n",
    "\n",
    "dike_model.constants = [Constant('EWS_DaysToThreat',0)]"
   ]
  },
  {
   "cell_type": "code",
   "execution_count": null,
   "metadata": {},
   "outputs": [],
   "source": []
  },
  {
   "cell_type": "code",
   "execution_count": null,
   "metadata": {},
   "outputs": [],
   "source": []
  },
  {
   "cell_type": "code",
   "execution_count": null,
   "metadata": {},
   "outputs": [],
   "source": []
  },
  {
   "cell_type": "code",
   "execution_count": null,
   "metadata": {},
   "outputs": [],
   "source": []
  }
 ],
 "metadata": {
  "kernelspec": {
   "display_name": "Python 3",
   "language": "python",
   "name": "python3"
  },
  "language_info": {
   "codemirror_mode": {
    "name": "ipython",
    "version": 3
   },
   "file_extension": ".py",
   "mimetype": "text/x-python",
   "name": "python",
   "nbconvert_exporter": "python",
   "pygments_lexer": "ipython3",
   "version": "3.6.5"
  }
 },
 "nbformat": 4,
 "nbformat_minor": 2
}
