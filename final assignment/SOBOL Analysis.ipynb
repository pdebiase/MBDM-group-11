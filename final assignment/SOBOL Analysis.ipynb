{
 "cells": [
  {
   "cell_type": "markdown",
   "metadata": {},
   "source": [
    "# Sensitivity Analysis using SOBOL\n",
    "\n",
    "Group 11, *EPA1361 Model-based Decision-making 18/19*\n",
    "\n",
    "A. Werntges, H. Cheng, G. Papazotos, R. Patel, P. De Biase"
   ]
  },
  {
   "cell_type": "code",
   "execution_count": 1,
   "metadata": {},
   "outputs": [
    {
     "name": "stderr",
     "output_type": "stream",
     "text": [
      "C:\\ProgramData\\Anaconda3\\lib\\importlib\\_bootstrap.py:219: ImportWarning: can't resolve package from __spec__ or __package__, falling back on __name__ and __path__\n",
      "  return f(*args, **kwds)\n"
     ]
    }
   ],
   "source": [
    "import numpy as np\n",
    "import pandas as pd\n",
    "import random\n",
    "import matplotlib.pyplot as plt\n",
    "from matplotlib import gridspec\n",
    "import seaborn as sns\n",
    "from ema_workbench import (MultiprocessingEvaluator,\n",
    "                           Scenario, Constraint, Policy,\n",
    "                           ScalarOutcome)\n",
    "from ema_workbench.em_framework.optimization import EpsilonProgress, HyperVolume\n",
    "from ema_workbench.em_framework.evaluators import perform_experiments, optimize\n",
    "from ema_workbench.em_framework.salib_samplers import get_SALib_problem\n",
    "from ema_workbench.util import ema_logging, save_results, load_results\n",
    "from ema_workbench.analysis import (pairs_plotting, prim, \n",
    "                                    feature_scoring, parcoords,\n",
    "                                    dimensional_stacking, plotting)\n",
    "from ema_workbench.analysis.scenario_discovery_util import RuleInductionType\n",
    "\n",
    "import statsmodels.api as sm\n",
    "import statsmodels.formula.api as smf\n",
    "from SALib.analyze import sobol\n",
    "\n",
    "from model.problem_formulation import get_model_for_problem_formulation\n",
    "%matplotlib inline\n",
    "sns.set_style('white')\n",
    "\n",
    "ema_logging.log_to_stderr(ema_logging.INFO)\n",
    "np.random.seed(42)\n",
    "random.seed(42)"
   ]
  },
  {
   "cell_type": "code",
   "execution_count": 2,
   "metadata": {},
   "outputs": [],
   "source": [
    "'''\n",
    "For different list of outcomes:\n",
    "# 0 = 2-objective PF\n",
    "# 1 = 3-objective PF\n",
    "# 2 = 5-objective PF\n",
    "# 3 = Disaggregate over locations\n",
    "# 4 = Disaggregate over time\n",
    "# 5 = Fully disaggregated\n",
    "'''\n",
    "ID_PF = 2    # assign problem_formulation_id\n",
    "NR_STEPS = 2 # assign number of planning steps\n",
    "dike_model, planning_steps = get_model_for_problem_formulation(ID_PF, NR_STEPS)"
   ]
  },
  {
   "cell_type": "markdown",
   "metadata": {},
   "source": [
    "## Over scenarios using zero policy as baseline\n",
    "\n",
    "We perform sobol sampling over levers for 1,000 sampled scenarios with zero policy as baseline."
   ]
  },
  {
   "cell_type": "code",
   "execution_count": 3,
   "metadata": {},
   "outputs": [],
   "source": [
    "# with no policies\n",
    "ref_policy = {'DikeIncrease': 0, 'DaysToThreat': 0, 'RfR': 0}\n",
    "\n",
    "policy0 = {}\n",
    "for key in dike_model.levers:\n",
    "    _, s = key.name.split('_')\n",
    "    if ' ' in s:\n",
    "        s, _ = s.split(' ')\n",
    "    policy0.update({key.name: ref_policy[s]})                \n",
    "\n",
    "policy0 = Policy('Policy 0', **policy0)"
   ]
  },
  {
   "cell_type": "code",
   "execution_count": null,
   "metadata": {},
   "outputs": [
    {
     "name": "stderr",
     "output_type": "stream",
     "text": [
      "[MainProcess/INFO] pool started\n",
      "[MainProcess/INFO] performing 38000 scenarios * 1 policies * 1 model(s) = 38000 experiments\n",
      "[MainProcess/INFO] 3800 cases completed\n",
      "[MainProcess/INFO] 7600 cases completed\n",
      "[MainProcess/INFO] 11400 cases completed\n",
      "[MainProcess/INFO] 15200 cases completed\n",
      "[MainProcess/INFO] 19000 cases completed\n",
      "[MainProcess/INFO] 22800 cases completed\n",
      "[MainProcess/INFO] 26600 cases completed\n"
     ]
    }
   ],
   "source": [
    "%%time\n",
    "with MultiprocessingEvaluator(dike_model) as evaluator:\n",
    "    results = evaluator.perform_experiments(scenarios=1000, policies=policy0,\n",
    "                                            uncertainty_sampling ='sobol')\n",
    "\n",
    "save_results(results, './results/sobol_policy0_1000scenarios_2steps.tar.gz')"
   ]
  },
  {
   "cell_type": "code",
   "execution_count": 4,
   "metadata": {},
   "outputs": [
    {
     "name": "stderr",
     "output_type": "stream",
     "text": [
      "[MainProcess/INFO] results loaded succesfully from D:\\EPA\\EPA Semester-1.4\\EPA1361 Model-based Decision-making\\MBDM-group-11\\final assignment\\results\\sobol_policy0_1000scenarios_2steps.tar.gz\n"
     ]
    }
   ],
   "source": [
    "results = load_results('./results/sobol_policy0_1000scenarios_2steps.tar.gz')\n",
    "\n",
    "_, outcomes_overU = results"
   ]
  },
  {
   "cell_type": "markdown",
   "metadata": {},
   "source": [
    "## Over levers using *mean-of-distribution* scenario as baseline\n",
    "\n",
    "We perform sobol sampling over uncertainties for 1,000 sampled levers with \"mean-of-distribution\" scenario as baseline. We take the mean values for each uncertainty factor as the \"mean-of-distribution\" scenario."
   ]
  },
  {
   "cell_type": "code",
   "execution_count": 5,
   "metadata": {},
   "outputs": [],
   "source": [
    "# with \"mean-of-distribution\" scenario\n",
    "ref_scenario = {'Bmax': 190, 'Brate': 1, 'pfail': 0.5,\n",
    "                'ID flood wave shape': 4,\n",
    "                'discount rate': 3.5} # use mean value of the parameter range\n",
    "\n",
    "scenario0 = {}\n",
    "for key in dike_model.uncertainties:\n",
    "    if 'discount rate' in key.name:\n",
    "        scenario0.update({key.name: ref_scenario['discount rate']})\n",
    "    else:\n",
    "        _, s = key.name.split('_') # remove the prefix \"A.#_\"\n",
    "        scenario0.update({key.name: ref_scenario[s]}) \n",
    "\n",
    "scenario0 = Policy('Scenario 0', **scenario0)"
   ]
  },
  {
   "cell_type": "code",
   "execution_count": null,
   "metadata": {},
   "outputs": [],
   "source": [
    "%%time\n",
    "with MultiprocessingEvaluator(dike_model) as evaluator:\n",
    "    results = evaluator.perform_experiments(scenarios=scenario0, policies=1000,\n",
    "                                            levers_sampling ='sobol')\n",
    "\n",
    "save_results(results, './results/sobol_scenario0_1000scenarios_2steps.tar.gz')"
   ]
  },
  {
   "cell_type": "code",
   "execution_count": 6,
   "metadata": {},
   "outputs": [
    {
     "name": "stderr",
     "output_type": "stream",
     "text": [
      "[MainProcess/INFO] results loaded succesfully from D:\\EPA\\EPA Semester-1.4\\EPA1361 Model-based Decision-making\\MBDM-group-11\\final assignment\\results\\sobol_scenario0_1000scenarios_2steps.tar.gz\n"
     ]
    }
   ],
   "source": [
    "results = load_results('./results/sobol_scenario0_1000scenarios_2steps.tar.gz')\n",
    "\n",
    "_, outcomes_overL = results"
   ]
  },
  {
   "cell_type": "markdown",
   "metadata": {},
   "source": [
    "## SOBOL Analysis\n",
    "\n",
    "We perform SOBOL analysis for outcomes of Expected Annual Damage and Expected Number of Deaths."
   ]
  },
  {
   "cell_type": "code",
   "execution_count": 7,
   "metadata": {},
   "outputs": [],
   "source": [
    "def plot_sobol(problem, outcomes, KPI, ax):\n",
    "    Si = sobol.analyze(problem, outcomes[KPI], \n",
    "                       calc_second_order=True, print_to_console=False)\n",
    "    scores_filtered = {k:Si[k] for k in ['ST', 'ST_conf',\n",
    "                                         'S1', 'S1_conf']}\n",
    "    Si_df = pd.DataFrame(scores_filtered, index=problem['names'])\n",
    "    \n",
    "    indices = Si_df.filter(regex='^((?!conf).)*$')\n",
    "    err = Si_df.filter(regex='conf$')\n",
    "    \n",
    "    indices.plot.bar(yerr=err.values.T, ax=ax)"
   ]
  },
  {
   "cell_type": "code",
   "execution_count": 9,
   "metadata": {},
   "outputs": [],
   "source": [
    "# get problem of sobol analysis format\n",
    "problem_overU = get_SALib_problem(dike_model.uncertainties)\n",
    "problem_overL = get_SALib_problem(dike_model.levers)"
   ]
  },
  {
   "cell_type": "code",
   "execution_count": 10,
   "metadata": {},
   "outputs": [
    {
     "data": {
      "image/png": "[encoded data removed]",
      "text/plain": [
       "<Figure size 720x360 with 2 Axes>"
      ]
     },
     "metadata": {
      "needs_background": "light"
     },
     "output_type": "display_data"
    }
   ],
   "source": [
    "KPI = 'Expected Annual Damage'\n",
    "\n",
    "fig, axes = plt.subplots(1, 2, sharey=True, figsize=(10, 5))\n",
    "plot_sobol(problem_overU, outcomes_overU, KPI, ax=axes[0])\n",
    "plot_sobol(problem_overL, outcomes_overL, KPI, ax=axes[1])\n",
    "plt.subplots_adjust(wspace=0.02, top=0.18)\n",
    "fig.suptitle('SOBOL Analysis for {} over uncertainties and levers'.format(KPI))\n",
    "fig.tight_layout()"
   ]
  },
  {
   "cell_type": "code",
   "execution_count": 11,
   "metadata": {},
   "outputs": [
    {
     "data": {
      "image/png": "[encoded data removed]",
      "text/plain": [
       "<Figure size 720x360 with 2 Axes>"
      ]
     },
     "metadata": {
      "needs_background": "light"
     },
     "output_type": "display_data"
    }
   ],
   "source": [
    "KPI = 'Expected Number of Deaths'\n",
    "\n",
    "fig, axes = plt.subplots(1, 2, sharey=True, figsize=(10, 5))\n",
    "plot_sobol(problem_overU, outcomes_overU, KPI, ax=axes[0])\n",
    "plot_sobol(problem_overL, outcomes_overL, KPI, ax=axes[1])\n",
    "plt.subplots_adjust(wspace=0.02, top=0.18)\n",
    "fig.suptitle('SOBOL Analysis for {} over uncertainties and levers'.format(KPI))\n",
    "fig.tight_layout()"
   ]
  }
 ],
 "metadata": {
  "kernelspec": {
   "display_name": "Python 3",
   "language": "python",
   "name": "python3"
  },
  "language_info": {
   "codemirror_mode": {
    "name": "ipython",
    "version": 3
   },
   "file_extension": ".py",
   "mimetype": "text/x-python",
   "name": "python",
   "nbconvert_exporter": "python",
   "pygments_lexer": "ipython3",
   "version": "3.6.8"
  }
 },
 "nbformat": 4,
 "nbformat_minor": 2
}
