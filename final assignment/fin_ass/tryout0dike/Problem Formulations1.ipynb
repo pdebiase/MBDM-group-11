{
 "cells": [
  {
   "cell_type": "code",
   "execution_count": 1,
   "metadata": {},
   "outputs": [],
   "source": [
    "import numpy as np\n",
    "import scipy as sp\n",
    "import pandas as pd\n",
    "import matplotlib.pyplot as plt\n",
    "import seaborn as sns"
   ]
  },
  {
   "cell_type": "code",
   "execution_count": 2,
   "metadata": {
    "scrolled": true
   },
   "outputs": [
    {
     "name": "stderr",
     "output_type": "stream",
     "text": [
      "C:\\ProgramData\\Anaconda3\\lib\\importlib\\_bootstrap.py:219: ImportWarning: can't resolve package from __spec__ or __package__, falling back on __name__ and __path__\n",
      "  return f(*args, **kwds)\n"
     ]
    }
   ],
   "source": [
    "from ema_workbench import (Model, CategoricalParameter,\n",
    "                           ScalarOutcome, IntegerParameter, RealParameter)\n",
    "from dike_model_function import DikeNetwork  # @UnresolvedImport\n",
    "\n",
    "\n",
    "def sum_over(*args):\n",
    "    return sum(args)"
   ]
  },
  {
   "cell_type": "code",
   "execution_count": 3,
   "metadata": {},
   "outputs": [
    {
     "data": {
      "text/plain": [
       "<Logger EMA (DEBUG)>"
      ]
     },
     "execution_count": 3,
     "metadata": {},
     "output_type": "execute_result"
    }
   ],
   "source": [
    "from ema_workbench import (Model, MultiprocessingEvaluator, Policy, Scenario)\n",
    "\n",
    "from ema_workbench.em_framework.evaluators import perform_experiments\n",
    "from ema_workbench.em_framework.samplers import sample_uncertainties\n",
    "from ema_workbench.util import ema_logging\n",
    "import time\n",
    "\n",
    "\n",
    "ema_logging.log_to_stderr(ema_logging.INFO)\n"
   ]
  },
  {
   "cell_type": "code",
   "execution_count": 6,
   "metadata": {},
   "outputs": [],
   "source": [
    "from problem_formulation1 import get_model_for_problem_formulation\n",
    "dike_model, planning_steps = get_model_for_problem_formulation(1)"
   ]
  },
  {
   "cell_type": "code",
   "execution_count": 7,
   "metadata": {},
   "outputs": [
    {
     "name": "stdout",
     "output_type": "stream",
     "text": [
      "ScalarOutcome('Expected Annual Damage', variable_name=['A.1_Expected Annual Damage 0', 'A.2_Expected Annual Damage 0', 'A.3_Expected Annual Damage 0', 'A.4_Expected Annual Damage 0', 'A.5_Expected Annual Damage 0', 'A.1_Expected Annual Damage 1', 'A.2_Expected Annual Damage 1', 'A.3_Expected Annual Damage 1', 'A.4_Expected Annual Damage 1', 'A.5_Expected Annual Damage 1', 'A.1_Expected Annual Damage 2', 'A.2_Expected Annual Damage 2', 'A.3_Expected Annual Damage 2', 'A.4_Expected Annual Damage 2', 'A.5_Expected Annual Damage 2'], function=<function sum_over at 0x000000000B7CC510>)\n",
      "ScalarOutcome('Total Investment Costs', variable_name=['A.1_Dike Investment Costs 0', 'A.2_Dike Investment Costs 0', 'A.3_Dike Investment Costs 0', 'A.4_Dike Investment Costs 0', 'A.5_Dike Investment Costs 0', 'RfR Total Costs 0', 'Expected Evacuation Costs 0', 'A.1_Dike Investment Costs 1', 'A.2_Dike Investment Costs 1', 'A.3_Dike Investment Costs 1', 'A.4_Dike Investment Costs 1', 'A.5_Dike Investment Costs 1', 'RfR Total Costs 1', 'Expected Evacuation Costs 1', 'A.1_Dike Investment Costs 2', 'A.2_Dike Investment Costs 2', 'A.3_Dike Investment Costs 2', 'A.4_Dike Investment Costs 2', 'A.5_Dike Investment Costs 2', 'RfR Total Costs 2', 'Expected Evacuation Costs 2'], function=<function sum_over at 0x000000000B7CC510>)\n",
      "ScalarOutcome('Expected Number of Deaths', variable_name=['A.1_Expected Number of Deaths 0', 'A.2_Expected Number of Deaths 0', 'A.3_Expected Number of Deaths 0', 'A.4_Expected Number of Deaths 0', 'A.5_Expected Number of Deaths 0', 'A.1_Expected Number of Deaths 1', 'A.2_Expected Number of Deaths 1', 'A.3_Expected Number of Deaths 1', 'A.4_Expected Number of Deaths 1', 'A.5_Expected Number of Deaths 1', 'A.1_Expected Number of Deaths 2', 'A.2_Expected Number of Deaths 2', 'A.3_Expected Number of Deaths 2', 'A.4_Expected Number of Deaths 2', 'A.5_Expected Number of Deaths 2'], function=<function sum_over at 0x000000000B7CC510>)\n"
     ]
    }
   ],
   "source": [
    "for unc in dike_model.outcomes:\n",
    "    print(repr(unc))"
   ]
  },
  {
   "cell_type": "code",
   "execution_count": 20,
   "metadata": {
    "scrolled": true
   },
   "outputs": [
    {
     "name": "stdout",
     "output_type": "stream",
     "text": [
      "CategoricalParameter('discount rate 0', [0, 1, 2, 3])\n",
      "CategoricalParameter('discount rate 1', [0, 1, 2, 3])\n",
      "CategoricalParameter('discount rate 2', [0, 1, 2, 3])\n",
      "IntegerParameter('A.0_ID flood wave shape', 0, 132)\n",
      "RealParameter('A.1_Bmax', 30, 350)\n",
      "RealParameter('A.1_pfail', 0, 1)\n",
      "CategoricalParameter('A.1_Brate', [0, 1, 2])\n",
      "RealParameter('A.2_Bmax', 30, 350)\n",
      "RealParameter('A.2_pfail', 0, 1)\n",
      "CategoricalParameter('A.2_Brate', [0, 1, 2])\n",
      "RealParameter('A.3_Bmax', 30, 350)\n",
      "RealParameter('A.3_pfail', 0, 1)\n",
      "CategoricalParameter('A.3_Brate', [0, 1, 2])\n",
      "RealParameter('A.4_Bmax', 30, 350)\n",
      "RealParameter('A.4_pfail', 0, 1)\n",
      "CategoricalParameter('A.4_Brate', [0, 1, 2])\n",
      "RealParameter('A.5_Bmax', 30, 350)\n",
      "RealParameter('A.5_pfail', 0, 1)\n",
      "CategoricalParameter('A.5_Brate', [0, 1, 2])\n"
     ]
    }
   ],
   "source": [
    "for unc in dike_model.uncertainties:\n",
    "    print(repr(unc))\n",
    "    \n",
    "uncertainties = dike_model.uncertainties\n",
    "\n",
    "import copy\n",
    "uncertainties = copy.deepcopy(dike_model.uncertainties)"
   ]
  },
  {
   "cell_type": "code",
   "execution_count": 5,
   "metadata": {},
   "outputs": [
    {
     "name": "stdout",
     "output_type": "stream",
     "text": [
      "IntegerParameter('0_RfR 0', 0, 1)\n",
      "IntegerParameter('0_RfR 1', 0, 1)\n",
      "IntegerParameter('0_RfR 2', 0, 1)\n",
      "IntegerParameter('1_RfR 0', 0, 1)\n",
      "IntegerParameter('1_RfR 1', 0, 1)\n",
      "IntegerParameter('1_RfR 2', 0, 1)\n",
      "IntegerParameter('2_RfR 0', 0, 1)\n",
      "IntegerParameter('2_RfR 1', 0, 1)\n",
      "IntegerParameter('2_RfR 2', 0, 1)\n",
      "IntegerParameter('3_RfR 0', 0, 1)\n",
      "IntegerParameter('3_RfR 1', 0, 1)\n",
      "IntegerParameter('3_RfR 2', 0, 1)\n",
      "IntegerParameter('4_RfR 0', 0, 1)\n",
      "IntegerParameter('4_RfR 1', 0, 1)\n",
      "IntegerParameter('4_RfR 2', 0, 1)\n",
      "IntegerParameter('EWS_DaysToThreat', 0, 4)\n"
     ]
    }
   ],
   "source": [
    "for policy in dike_model.levers:\n",
    "    print(repr(policy))\n",
    "    \n",
    "levers = dike_model.levers \n",
    "\n",
    "import copy\n",
    "levers = copy.deepcopy(dike_model.levers)\n"
   ]
  },
  {
   "cell_type": "code",
   "execution_count": 7,
   "metadata": {
    "scrolled": true
   },
   "outputs": [
    {
     "name": "stdout",
     "output_type": "stream",
     "text": [
      "ScalarOutcome('A.1 Total Costs', variable_name=['A.1_Expected Annual Damage 0', 'A.1_Expected Annual Damage 1', 'A.1_Expected Annual Damage 2', 'A.1_Dike Investment Costs 0', 'A.1_Dike Investment Costs 1', 'A.1_Dike Investment Costs 2'], function=<function sum_over at 0x0000000009A80BF8>)\n",
      "ScalarOutcome('A.1_Expected Number of Deaths', variable_name=['A.1_Expected Number of Deaths 0', 'A.1_Expected Number of Deaths 1', 'A.1_Expected Number of Deaths 2'], function=<function sum_over at 0x0000000009A80BF8>)\n",
      "ScalarOutcome('A.2 Total Costs', variable_name=['A.2_Expected Annual Damage 0', 'A.2_Expected Annual Damage 1', 'A.2_Expected Annual Damage 2', 'A.2_Dike Investment Costs 0', 'A.2_Dike Investment Costs 1', 'A.2_Dike Investment Costs 2'], function=<function sum_over at 0x0000000009A80BF8>)\n",
      "ScalarOutcome('A.2_Expected Number of Deaths', variable_name=['A.2_Expected Number of Deaths 0', 'A.2_Expected Number of Deaths 1', 'A.2_Expected Number of Deaths 2'], function=<function sum_over at 0x0000000009A80BF8>)\n",
      "ScalarOutcome('A.3 Total Costs', variable_name=['A.3_Expected Annual Damage 0', 'A.3_Expected Annual Damage 1', 'A.3_Expected Annual Damage 2', 'A.3_Dike Investment Costs 0', 'A.3_Dike Investment Costs 1', 'A.3_Dike Investment Costs 2'], function=<function sum_over at 0x0000000009A80BF8>)\n",
      "ScalarOutcome('A.3_Expected Number of Deaths', variable_name=['A.3_Expected Number of Deaths 0', 'A.3_Expected Number of Deaths 1', 'A.3_Expected Number of Deaths 2'], function=<function sum_over at 0x0000000009A80BF8>)\n",
      "ScalarOutcome('A.4 Total Costs', variable_name=['A.4_Expected Annual Damage 0', 'A.4_Expected Annual Damage 1', 'A.4_Expected Annual Damage 2', 'A.4_Dike Investment Costs 0', 'A.4_Dike Investment Costs 1', 'A.4_Dike Investment Costs 2'], function=<function sum_over at 0x0000000009A80BF8>)\n",
      "ScalarOutcome('A.4_Expected Number of Deaths', variable_name=['A.4_Expected Number of Deaths 0', 'A.4_Expected Number of Deaths 1', 'A.4_Expected Number of Deaths 2'], function=<function sum_over at 0x0000000009A80BF8>)\n",
      "ScalarOutcome('A.5 Total Costs', variable_name=['A.5_Expected Annual Damage 0', 'A.5_Expected Annual Damage 1', 'A.5_Expected Annual Damage 2', 'A.5_Dike Investment Costs 0', 'A.5_Dike Investment Costs 1', 'A.5_Dike Investment Costs 2'], function=<function sum_over at 0x0000000009A80BF8>)\n",
      "ScalarOutcome('A.5_Expected Number of Deaths', variable_name=['A.5_Expected Number of Deaths 0', 'A.5_Expected Number of Deaths 1', 'A.5_Expected Number of Deaths 2'], function=<function sum_over at 0x0000000009A80BF8>)\n",
      "ScalarOutcome('RfR Total Costs', variable_name=['RfR Total Costs 0', 'RfR Total Costs 1', 'RfR Total Costs 2'], function=<function sum_over at 0x0000000009A80BF8>)\n",
      "ScalarOutcome('Expected Evacuation Costs', variable_name=['Expected Evacuation Costs 0', 'Expected Evacuation Costs 1', 'Expected Evacuation Costs 2'], function=<function sum_over at 0x0000000009A80BF8>)\n"
     ]
    }
   ],
   "source": [
    "for outcome in dike_model.outcomes:\n",
    "    print(repr(outcome))"
   ]
  },
  {
   "cell_type": "code",
   "execution_count": 8,
   "metadata": {},
   "outputs": [],
   "source": [
    "from ema_workbench import ScalarOutcome"
   ]
  },
  {
   "cell_type": "code",
   "execution_count": 9,
   "metadata": {},
   "outputs": [],
   "source": [
    "def problem_formulation_actor(problem_formulation_actor):\n",
    "   \n",
    "    # Load the model:\n",
    "    function = DikeNetwork()\n",
    "    # workbench model:\n",
    "    model = Model('dikesnet', function=function)\n",
    "    # Outcomes are all costs, thus they have to minimized:\n",
    "    direction = ScalarOutcome.MINIMIZE\n",
    "    \n",
    "    model.uncertainties = uncertainties\n",
    "    model.levers = levers\n",
    "\n",
    "    if problem_formulation_actor == 4: # RWS\n",
    "        model.outcomes.clear()\n",
    "        model.outcomes = [\n",
    "            ScalarOutcome('Expected Annual Damage',\n",
    "                            variable_name=['{}_Expected Annual Damage'.format(dike)\n",
    "                                                for dike in function.dikelist],\n",
    "                            function=np.sum, kind=direction),\n",
    "\n",
    "            ScalarOutcome('Total Investment Costs',\n",
    "                            variable_name=['{}_Dike Investment Costs'.format(dike)\n",
    "                                                for dike in function.dikelist] + ['RfR Total Costs'\n",
    "                                                                                ] + ['Expected Evacuation Costs'],\n",
    "                            function=np.sum, kind=direction),\n",
    "\n",
    "            ScalarOutcome('Expected Number of Deaths',\n",
    "                            variable_name=['{}_Expected Number of Deaths'.format(dike)\n",
    "                                                for dike in function.dikelist],\n",
    "                            function=sum_over, kind=direction)] \n",
    "    \n",
    "    elif problem_formulation_actor == 5: # GELDERLAND\n",
    "        model.outcomes.clear()\n",
    "        model.outcomes = [\n",
    "            ScalarOutcome('Expected Annual Damage A1-4',\n",
    "                            variable_name=['A.1_Expected Annual Damage' ,'A.2_Expected Annual Damage',\n",
    "                                           'A.3_Expected Annual Damage', 'A.4_Expected Annual Damage'], function=sum_over, kind=direction),\n",
    "\n",
    "            ScalarOutcome('Investment Costs A1-4',\n",
    "                            variable_name=['A.1_Dike Investment Costs', 'A.2_Dike Investment Costs',\n",
    "                                           'A.3_Dike Investment Costs', 'A.4_Dike Investment Costs'], function=sum_over, kind=direction),\n",
    "\n",
    "            ScalarOutcome('Expected Number of Deaths in A1-4',\n",
    "                            variable_name=['A.1_Expected Number of Deaths', 'A.2_Expected Number of Deaths',\n",
    "                                           'A.3_Expected Number of Deaths', 'A.4_Expected Number of Deaths'], function=sum_over, kind=direction)]\n",
    "    \n",
    "    elif problem_formulation_actor == 6: # OVERIJSSEL\n",
    "        model.outcomes.clear()\n",
    "        model.outcomes = [\n",
    "            ScalarOutcome('Expected Annual Damage A5', variable_name=['A.5_Expected Annual Damage'], kind=direction),\n",
    "\n",
    "            ScalarOutcome('Investment Costs A5', variable_name=['A.5_Dike Investment Costs'], kind=direction),\n",
    "\n",
    "            ScalarOutcome('Expected Number of Deaths in A5', variable_name=['A.5_Expected Number of Deaths'], kind=direction)]\n",
    "    \n",
    "    else:\n",
    "        raise TypeError('unknown identifier')\n",
    "    return model"
   ]
  },
  {
   "cell_type": "code",
   "execution_count": 11,
   "metadata": {
    "scrolled": false
   },
   "outputs": [],
   "source": [
    "model = problem_formulation_actor(5)"
   ]
  },
  {
   "cell_type": "code",
   "execution_count": 13,
   "metadata": {
    "scrolled": true
   },
   "outputs": [
    {
     "name": "stdout",
     "output_type": "stream",
     "text": [
      "0_RfR 0\n",
      "0_RfR 1\n",
      "0_RfR 2\n",
      "1_RfR 0\n",
      "1_RfR 1\n",
      "1_RfR 2\n",
      "2_RfR 0\n",
      "2_RfR 1\n",
      "2_RfR 2\n",
      "3_RfR 0\n",
      "3_RfR 1\n",
      "3_RfR 2\n",
      "4_RfR 0\n",
      "4_RfR 1\n",
      "4_RfR 2\n",
      "EWS_DaysToThreat\n",
      "A.1_DikeIncrease 0\n",
      "A.1_DikeIncrease 1\n",
      "A.1_DikeIncrease 2\n",
      "A.2_DikeIncrease 0\n",
      "A.2_DikeIncrease 1\n",
      "A.2_DikeIncrease 2\n",
      "A.3_DikeIncrease 0\n",
      "A.3_DikeIncrease 1\n",
      "A.3_DikeIncrease 2\n",
      "A.4_DikeIncrease 0\n",
      "A.4_DikeIncrease 1\n",
      "A.4_DikeIncrease 2\n",
      "A.5_DikeIncrease 0\n",
      "A.5_DikeIncrease 1\n",
      "A.5_DikeIncrease 2\n"
     ]
    }
   ],
   "source": [
    "for lever in model.levers:\n",
    "    print(lever.name)"
   ]
  },
  {
   "cell_type": "code",
   "execution_count": 14,
   "metadata": {
    "scrolled": true
   },
   "outputs": [
    {
     "name": "stdout",
     "output_type": "stream",
     "text": [
      "CategoricalParameter('discount rate 0', [0, 1, 2, 3])\n",
      "CategoricalParameter('discount rate 1', [0, 1, 2, 3])\n",
      "CategoricalParameter('discount rate 2', [0, 1, 2, 3])\n",
      "IntegerParameter('A.0_ID flood wave shape', 0, 132)\n",
      "RealParameter('A.1_Bmax', 30, 350)\n",
      "RealParameter('A.1_pfail', 0, 1)\n",
      "CategoricalParameter('A.1_Brate', [0, 1, 2])\n",
      "RealParameter('A.2_Bmax', 30, 350)\n",
      "RealParameter('A.2_pfail', 0, 1)\n",
      "CategoricalParameter('A.2_Brate', [0, 1, 2])\n",
      "RealParameter('A.3_Bmax', 30, 350)\n",
      "RealParameter('A.3_pfail', 0, 1)\n",
      "CategoricalParameter('A.3_Brate', [0, 1, 2])\n",
      "RealParameter('A.4_Bmax', 30, 350)\n",
      "RealParameter('A.4_pfail', 0, 1)\n",
      "CategoricalParameter('A.4_Brate', [0, 1, 2])\n",
      "RealParameter('A.5_Bmax', 30, 350)\n",
      "RealParameter('A.5_pfail', 0, 1)\n",
      "CategoricalParameter('A.5_Brate', [0, 1, 2])\n"
     ]
    }
   ],
   "source": [
    "for unc in model.uncertainties:\n",
    "    print(repr(unc))"
   ]
  },
  {
   "cell_type": "code",
   "execution_count": 15,
   "metadata": {},
   "outputs": [
    {
     "name": "stdout",
     "output_type": "stream",
     "text": [
      "ScalarOutcome('Expected Annual Damage A1-4', variable_name=['A.1_Expected Annual Damage', 'A.2_Expected Annual Damage', 'A.3_Expected Annual Damage', 'A.4_Expected Annual Damage'], function=<function sum_over at 0x0000000009A95158>)\n",
      "ScalarOutcome('Investment Costs A1-4', variable_name=['A.1_Dike Investment Costs', 'A.2_Dike Investment Costs', 'A.3_Dike Investment Costs', 'A.4_Dike Investment Costs'], function=<function sum_over at 0x0000000009A95158>)\n",
      "ScalarOutcome('Expected Number of Deaths in A1-4', variable_name=['A.1_Expected Number of Deaths', 'A.2_Expected Number of Deaths', 'A.3_Expected Number of Deaths', 'A.4_Expected Number of Deaths'], function=<function sum_over at 0x0000000009A95158>)\n"
     ]
    }
   ],
   "source": [
    "for outcome in model.outcomes:\n",
    "    print(repr(outcome))"
   ]
  },
  {
   "cell_type": "code",
   "execution_count": 21,
   "metadata": {},
   "outputs": [],
   "source": [
    "from problem_formulation import get_model_for_problem_formulation\n",
    "dike_model, planning_steps = get_model_for_problem_formulation(5)"
   ]
  },
  {
   "cell_type": "code",
   "execution_count": 22,
   "metadata": {},
   "outputs": [
    {
     "name": "stderr",
     "output_type": "stream",
     "text": [
      "[MainProcess/INFO] pool started\n",
      "[MainProcess/INFO] performing 2 scenarios * 2 policies * 1 model(s) = 4 experiments\n",
      "[MainProcess/INFO] 1 cases completed\n",
      "[MainProcess/INFO] 2 cases completed\n",
      "[MainProcess/INFO] 3 cases completed\n",
      "[MainProcess/INFO] 4 cases completed\n",
      "[MainProcess/INFO] experiments finished\n",
      "[MainProcess/INFO] terminating pool\n"
     ]
    }
   ],
   "source": [
    "from ema_workbench import (MultiprocessingEvaluator, ema_logging,\n",
    "                           perform_experiments, SequentialEvaluator)\n",
    "ema_logging.log_to_stderr(ema_logging.INFO)\n",
    " \n",
    "with MultiprocessingEvaluator(dike_model) as evaluator:\n",
    "    experiments,results = evaluator.perform_experiments(scenarios=2, policies=2)"
   ]
  },
  {
   "cell_type": "code",
   "execution_count": 23,
   "metadata": {},
   "outputs": [
    {
     "data": {
      "text/plain": [
       "{'A.1_Expected Annual Damage 0': array([0., 0., 0., 0.]),\n",
       " 'A.1_Dike Investment Costs 0': array([29841376.5632172 , 29841376.5632172 , 30675385.31258502,\n",
       "        30675385.31258502]),\n",
       " 'A.1_Expected Number of Deaths 0': array([0., 0., 0., 0.]),\n",
       " 'A.2_Expected Annual Damage 0': array([7.30113278e+05, 1.50339730e+08, 7.17493757e+05, 1.20313351e+08]),\n",
       " 'A.2_Dike Investment Costs 0': array([37411157.56608842, 37411157.56608842, 34785640.00907703,\n",
       "        34785640.00907703]),\n",
       " 'A.2_Expected Number of Deaths 0': array([8.50537300e-05, 1.89779668e-02, 1.02883740e-04, 1.87019110e-02]),\n",
       " 'A.3_Expected Annual Damage 0': array([10005184.10180768,  6714089.05242437,        0.        ,\n",
       "               0.        ]),\n",
       " 'A.3_Dike Investment Costs 0': array([18775777.04058011, 18775777.04058011, 19696880.59282057,\n",
       "        19696880.59282057]),\n",
       " 'A.3_Expected Number of Deaths 0': array([0.00211402, 0.00158056, 0.        , 0.        ]),\n",
       " 'A.4_Expected Annual Damage 0': array([2059014.77555803,       0.        , 4090417.13312285,\n",
       "              0.        ]),\n",
       " 'A.4_Dike Investment Costs 0': array([5902675.1399396 , 5902675.1399396 , 5813921.37424579,\n",
       "        5813921.37424579]),\n",
       " 'A.4_Expected Number of Deaths 0': array([0.00011526, 0.        , 0.00030449, 0.        ]),\n",
       " 'A.5_Expected Annual Damage 0': array([18042107.53215066,        0.        ,        0.        ,\n",
       "               0.        ]),\n",
       " 'A.5_Dike Investment Costs 0': array([23757827.79717684, 23757827.79717684, 24585520.74742404,\n",
       "        24585520.74742404]),\n",
       " 'A.5_Expected Number of Deaths 0': array([0.00192972, 0.        , 0.        , 0.        ]),\n",
       " 'RfR Total Costs 0': array([3.407e+08, 3.407e+08, 3.697e+08, 3.697e+08]),\n",
       " 'Expected Evacuation Costs 0': array([ 1717.96282108, 10848.64858612,   254.38542763,  6766.90625029]),\n",
       " 'A.1_Expected Annual Damage 1': array([0., 0., 0., 0.]),\n",
       " 'A.1_Dike Investment Costs 1': array([31307299.07879251, 31307299.07879251, 29443340.92472988,\n",
       "        29443340.92472988]),\n",
       " 'A.1_Expected Number of Deaths 1': array([0., 0., 0., 0.]),\n",
       " 'A.2_Expected Annual Damage 1': array([0.00000000e+00, 2.06519068e+08, 0.00000000e+00, 1.12862925e+08]),\n",
       " 'A.2_Dike Investment Costs 1': array([36224679.09456071, 36224679.09456071, 37252527.42774078,\n",
       "        37252527.42774078]),\n",
       " 'A.2_Expected Number of Deaths 1': array([0.        , 0.01617389, 0.        , 0.01114682]),\n",
       " 'A.3_Expected Annual Damage 1': array([4797292.31044075,       0.        ,       0.        ,\n",
       "              0.        ]),\n",
       " 'A.3_Dike Investment Costs 1': array([19809037.84996626, 19809037.84996626, 19713872.17152981,\n",
       "        19713872.17152981]),\n",
       " 'A.3_Expected Number of Deaths 1': array([0.00127917, 0.        , 0.        , 0.        ]),\n",
       " 'A.4_Expected Annual Damage 1': array([ 668363.74014826,       0.        , 3258681.40414363,\n",
       "              0.        ]),\n",
       " 'A.4_Dike Investment Costs 1': array([6198904.34317656, 6198904.34317656, 5541395.67458279,\n",
       "        5541395.67458279]),\n",
       " 'A.4_Expected Number of Deaths 1': array([5.10923025e-05, 0.00000000e+00, 3.04492775e-04, 0.00000000e+00]),\n",
       " 'A.5_Expected Annual Damage 1': array([13079349.90987627,        0.        ,        0.        ,\n",
       "               0.        ]),\n",
       " 'A.5_Dike Investment Costs 1': array([24188501.11855913, 24188501.11855913, 24639404.57092555,\n",
       "        24639404.57092555]),\n",
       " 'A.5_Expected Number of Deaths 1': array([0.00176787, 0.        , 0.        , 0.        ]),\n",
       " 'RfR Total Costs 1': array([6.797e+08, 6.797e+08, 3.070e+07, 3.070e+07]),\n",
       " 'Expected Evacuation Costs 1': array([1312.33333383, 8748.54227923,  224.1973608 , 3829.48993296]),\n",
       " 'A.1_Expected Annual Damage 2': array([0., 0., 0., 0.]),\n",
       " 'A.1_Dike Investment Costs 2': array([30649242.90587709, 30649242.90587709, 31876170.30016063,\n",
       "        31876170.30016063]),\n",
       " 'A.1_Expected Number of Deaths 2': array([0., 0., 0., 0.]),\n",
       " 'A.2_Expected Annual Damage 2': array([       0.        , 91175257.00490603,        0.        ,\n",
       "        87018750.47743374]),\n",
       " 'A.2_Dike Investment Costs 2': array([38808736.33448885, 38808736.33448885, 35598546.77952085,\n",
       "        35598546.77952085]),\n",
       " 'A.2_Expected Number of Deaths 2': array([0.        , 0.0095432 , 0.        , 0.01114682]),\n",
       " 'A.3_Expected Annual Damage 2': array([1083748.21714656,       0.        ,       0.        ,\n",
       "              0.        ]),\n",
       " 'A.3_Dike Investment Costs 2': array([20506633.75450184, 20506633.75450184, 19350674.48831666,\n",
       "        19350674.48831666]),\n",
       " 'A.3_Expected Number of Deaths 2': array([0.00029104, 0.        , 0.        , 0.        ]),\n",
       " 'A.4_Expected Annual Damage 2': array([ 164354.80248564,       0.        , 3258681.40414363,\n",
       "              0.        ]),\n",
       " 'A.4_Dike Investment Costs 2': array([6405285.12919057, 6405285.12919057, 5686771.26382124,\n",
       "        5686771.26382124]),\n",
       " 'A.4_Expected Number of Deaths 2': array([1.33491002e-05, 0.00000000e+00, 3.04492775e-04, 0.00000000e+00]),\n",
       " 'A.5_Expected Annual Damage 2': array([6605352.25792385,       0.        ,       0.        ,\n",
       "              0.        ]),\n",
       " 'A.5_Dike Investment Costs 2': array([25771607.70783216, 25771607.70783216, 24637488.72423233,\n",
       "        24637488.72423233]),\n",
       " 'A.5_Expected Number of Deaths 2': array([0.00090036, 0.        , 0.        , 0.        ]),\n",
       " 'RfR Total Costs 2': array([5.046e+08, 5.046e+08, 2.058e+08, 2.058e+08]),\n",
       " 'Expected Evacuation Costs 2': array([ 571.91539464, 4929.88565255,  224.1973608 , 3829.48993296])}"
      ]
     },
     "execution_count": 23,
     "metadata": {},
     "output_type": "execute_result"
    }
   ],
   "source": [
    "results"
   ]
  }
 ],
 "metadata": {
  "kernelspec": {
   "display_name": "Python 3",
   "language": "python",
   "name": "python3"
  },
  "language_info": {
   "codemirror_mode": {
    "name": "ipython",
    "version": 3
   },
   "file_extension": ".py",
   "mimetype": "text/x-python",
   "name": "python",
   "nbconvert_exporter": "python",
   "pygments_lexer": "ipython3",
   "version": "3.6.5"
  }
 },
 "nbformat": 4,
 "nbformat_minor": 2
}
