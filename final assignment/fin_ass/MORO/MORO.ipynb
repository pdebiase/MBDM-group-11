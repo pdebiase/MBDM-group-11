{
 "cells": [
  {
   "cell_type": "code",
   "execution_count": 1,
   "metadata": {},
   "outputs": [
    {
     "name": "stderr",
     "output_type": "stream",
     "text": [
      "C:\\ProgramData\\Anaconda3\\lib\\importlib\\_bootstrap.py:219: ImportWarning: can't resolve package from __spec__ or __package__, falling back on __name__ and __path__\n",
      "  return f(*args, **kwds)\n"
     ]
    }
   ],
   "source": [
    "SEED = 42 \n",
    "import numpy.random\n",
    "import random\n",
    "numpy.random.seed(SEED)\n",
    "random.seed(SEED)\n",
    "\n",
    "\n",
    "from ema_workbench import (Model, RealParameter, Policy, Constant, Scenario, ScalarOutcome)\n",
    "from ema_workbench.util import ema_logging, save_results, load_results\n",
    "from ema_workbench.em_framework.optimization import EpsilonProgress, HyperVolume\n",
    "from problem_formulation import get_model_for_problem_formulation\n",
    "from ema_workbench import (MultiprocessingEvaluator, ema_logging, perform_experiments) # parallel computing\n",
    "\n",
    "import numpy as np\n",
    "import matplotlib.pyplot as plt\n",
    "import pandas as pd\n",
    "\n",
    "%matplotlib inline  \n",
    "# With this backend, the output of plotting commands is displayed inline within frontends like the Jupyter notebook, \n",
    "# directly below the code cell that produced it. The resulting plots will then also be stored in the notebook document.\n",
    "\n",
    "\n",
    "ema_logging.log_to_stderr(ema_logging.INFO)\n",
    "\n",
    "'''\n",
    "For different list of outcomes:\n",
    "# 0 = 2-objective PF\n",
    "# 1 = 3-objective PF\n",
    "# 2 = 5-objective PF\n",
    "# 3 = Disaggregate over locations\n",
    "# 4 = Disaggregate over time\n",
    "# 5 = Fully disaggregated\n",
    "'''\n",
    "\n",
    "dike_model, planning_steps = get_model_for_problem_formulation(1) # assign problem_formulation_id\n"
   ]
  },
  {
   "cell_type": "code",
   "execution_count": 2,
   "metadata": {},
   "outputs": [],
   "source": [
    "import functools\n",
    "\n",
    "# percentile90 = functools.partial(np.percentile, q=90)\n",
    "\n",
    "# def var_mean(data):\n",
    "#     return ((np.percentile(data,q=75)-np.percentile(data,q=25))*np.sum(data)/(data.shape[0]))\n",
    "\n",
    "def mean_rob(data):\n",
    "    return np.sum(data)/(data.shape[0]*1e9)\n",
    "\n",
    "def threshold(direction, threshold, data):\n",
    "    if direction == SMALLER:\n",
    "        return np.sum(data<=threshold)/data.shape[0]\n",
    "    else:\n",
    "        return np.sum(data>=threshold)/data.shape[0]\n",
    "\n",
    "MAXIMIZE = ScalarOutcome.MAXIMIZE\n",
    "MINIMIZE = ScalarOutcome.MINIMIZE \n",
    "\n",
    "SMALLER = \"SMALLER\"\n",
    "\n",
    "death_funcs = functools.partial(threshold, SMALLER, 0.05)\n",
    "damage_funcs = functools.partial(threshold, SMALLER, 100000)\n",
    "\n",
    "robustness_functions = [ScalarOutcome('Expected Number of Deaths', kind=MAXIMIZE,\n",
    "                             variable_name='Expected Number of Deaths', function = death_funcs),\n",
    "                        ScalarOutcome('Expected Annual Damage', kind=MAXIMIZE,\n",
    "                             variable_name='Expected Annual Damage', function = damage_funcs),\n",
    "                        ScalarOutcome('Total Investment Costs', kind=MINIMIZE,\n",
    "                             variable_name='Total Investment Costs', function = mean_rob)]\n",
    "\n",
    "# Expected Annual Damage\n",
    "# RfR Investment Costs\n",
    "# Evacuation Costs\n",
    "# Expected Number of Deaths\n",
    "# Total Investment Costs\n"
   ]
  },
  {
   "cell_type": "code",
   "execution_count": 3,
   "metadata": {},
   "outputs": [],
   "source": [
    "from ema_workbench.em_framework import sample_uncertainties\n",
    "\n",
    "n_scenarios = 60\n",
    "scenarios = sample_uncertainties(dike_model, n_scenarios)"
   ]
  },
  {
   "cell_type": "code",
   "execution_count": 4,
   "metadata": {},
   "outputs": [
    {
     "name": "stderr",
     "output_type": "stream",
     "text": [
      "[MainProcess/INFO] pool started\n",
      "[MainProcess/INFO] generation 0: 0/200 nfe\n",
      "[MainProcess/INFO] optimization completed, found 4 solutions\n",
      "[MainProcess/INFO] terminating pool\n"
     ]
    },
    {
     "data": {
      "image/png": "[encoded data removed]",
      "text/plain": [
       "<Figure size 576x288 with 2 Axes>"
      ]
     },
     "metadata": {},
     "output_type": "display_data"
    },
    {
     "name": "stdout",
     "output_type": "stream",
     "text": [
      "Wall time: 4h 9min 40s\n"
     ]
    }
   ],
   "source": [
    "%%time\n",
    "\n",
    "from ema_workbench import (MultiprocessingEvaluator, ema_logging, \n",
    "                           perform_experiments, SequentialEvaluator)\n",
    "from ema_workbench.em_framework.optimization import (HyperVolume, \n",
    "                                                     EpsilonProgress)\n",
    "from ema_workbench.em_framework.evaluators import BaseEvaluator\n",
    "\n",
    "BaseEvaluator.reporting_frequency = 0.1\n",
    "\n",
    "ema_logging.log_to_stderr(ema_logging.INFO)\n",
    "\n",
    "nfe = 200\n",
    "\n",
    "epsilon = [0.1, 0.1, 0.1]\n",
    "\n",
    "\n",
    "convergence_metrics = [HyperVolume(minimum=[0,0,0], maximum=[1.1, 3, 1.1]),\n",
    "                       EpsilonProgress()]\n",
    " \n",
    "with MultiprocessingEvaluator(dike_model) as evaluator:\n",
    "    archive, convergence = evaluator.robust_optimize(robustness_functions, scenarios,\n",
    "                            nfe=nfe, convergence=convergence_metrics, epsilons=epsilon)\n",
    "#start = time.time()\n",
    "archive.to_csv(\"ArchiveRobustOptimizationMoro60scen200nfe\")\n",
    "convergence.to_csv(\"ConvergenceRobustOptimizationMoro60scen200nfe\")\n",
    "fig, (ax1, ax2) = plt.subplots(ncols=2, sharex=True, figsize=(8,4))\n",
    "ax1.plot(convergence.nfe, convergence.epsilon_progress)\n",
    "ax1.set_ylabel('$\\epsilon$-progress')\n",
    "ax2.plot(convergence.nfe, convergence.hypervolume)\n",
    "ax2.set_ylabel('hypervolume')\n",
    "\n",
    "ax1.set_xlabel('number of function evaluations')\n",
    "ax2.set_xlabel('number of function evaluations')\n",
    "plt.show()"
   ]
  },
  {
   "cell_type": "code",
   "execution_count": null,
   "metadata": {},
   "outputs": [],
   "source": [
    "fig, (ax1, ax2) = plt.subplots(ncols=2, sharex=True, figsize=(8,4))\n",
    "ax1.plot(convergence.nfe, convergence.epsilon_progress)\n",
    "ax1.set_ylabel('$\\epsilon$-progress')\n",
    "ax2.plot(convergence.nfe, convergence.hypervolume)\n",
    "ax2.set_ylabel('hypervolume')\n",
    "\n",
    "ax1.set_xlabel('number of function evaluations')\n",
    "ax2.set_xlabel('number of function evaluations')\n",
    "plt.show()"
   ]
  }
 ],
 "metadata": {
  "kernelspec": {
   "display_name": "Python 3",
   "language": "python",
   "name": "python3"
  },
  "language_info": {
   "codemirror_mode": {
    "name": "ipython",
    "version": 3
   },
   "file_extension": ".py",
   "mimetype": "text/x-python",
   "name": "python",
   "nbconvert_exporter": "python",
   "pygments_lexer": "ipython3",
   "version": "3.6.5"
  }
 },
 "nbformat": 4,
 "nbformat_minor": 2
}
