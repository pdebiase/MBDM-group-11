{
 "cells": [
  {
   "cell_type": "markdown",
   "metadata": {},
   "source": [
    "# Explore levers\n",
    "\n",
    "If fixed default uncertainties, explore the outcomes at five different locations under different levers.\n",
    "\n",
    "*Upstream - A1 (Doesburg), A2 (Contenoever), A3 (Zutphen), A4 (Gorssel), A5 (Deventer) - Downstream*"
   ]
  },
  {
   "cell_type": "code",
   "execution_count": 2,
   "metadata": {},
   "outputs": [
    {
     "name": "stderr",
     "output_type": "stream",
     "text": [
      "C:\\Users\\georg\\Anaconda3\\lib\\importlib\\_bootstrap.py:219: ImportWarning: can't resolve package from __spec__ or __package__, falling back on __name__ and __path__\n",
      "  return f(*args, **kwds)\n",
      "C:\\Users\\georg\\Anaconda3\\lib\\importlib\\_bootstrap.py:219: ImportWarning: can't resolve package from __spec__ or __package__, falling back on __name__ and __path__\n",
      "  return f(*args, **kwds)\n",
      "C:\\Users\\georg\\Anaconda3\\lib\\importlib\\_bootstrap.py:219: ImportWarning: can't resolve package from __spec__ or __package__, falling back on __name__ and __path__\n",
      "  return f(*args, **kwds)\n"
     ]
    },
    {
     "data": {
      "text/plain": [
       "<Logger EMA (DEBUG)>"
      ]
     },
     "execution_count": 2,
     "metadata": {},
     "output_type": "execute_result"
    }
   ],
   "source": [
    "import numpy as np\n",
    "import pandas as pd\n",
    "import matplotlib.pyplot as plt\n",
    "import seaborn as sns\n",
    "from ema_workbench import (MultiprocessingEvaluator, \n",
    "                           Scenario, Constraint, Policy,\n",
    "                           ScalarOutcome)\n",
    "from ema_workbench.em_framework.optimization import EpsilonProgress, HyperVolume\n",
    "from ema_workbench.em_framework.evaluators import perform_experiments, optimize\n",
    "from ema_workbench.util import ema_logging, save_results, load_results\n",
    "from ema_workbench.analysis import (pairs_plotting, prim, \n",
    "                                    feature_scoring, parcoords)\n",
    "\n",
    "from problem_formulation import get_model_for_problem_formulation\n",
    "%matplotlib inline\n",
    "\n",
    "ema_logging.log_to_stderr(ema_logging.INFO)"
   ]
  },
  {
   "cell_type": "code",
   "execution_count": 3,
   "metadata": {},
   "outputs": [],
   "source": [
    "'''\n",
    "For different list of outcomes:\n",
    "# 0 = 2-objective PF\n",
    "# 1 = 3-objective PF\n",
    "# 2 = 5-objective PF\n",
    "# 3 = Disaggregate over locations\n",
    "# 4 = Disaggregate over time\n",
    "# 5 = Fully disaggregated\n",
    "'''\n",
    "dike_model, planning_steps = get_model_for_problem_formulation(1) # assign problem_formulation_id"
   ]
  },
  {
   "cell_type": "code",
   "execution_count": 8,
   "metadata": {},
   "outputs": [
    {
     "name": "stdout",
     "output_type": "stream",
     "text": [
      "CategoricalParameter('discount rate 0', [0, 1, 2, 3])\n",
      "CategoricalParameter('discount rate 1', [0, 1, 2, 3])\n",
      "CategoricalParameter('discount rate 2', [0, 1, 2, 3])\n",
      "IntegerParameter('A.0_ID flood wave shape', 0, 132)\n",
      "RealParameter('A.1_Bmax', 30, 350)\n",
      "RealParameter('A.1_pfail', 0, 1)\n",
      "CategoricalParameter('A.1_Brate', [0, 1, 2])\n",
      "RealParameter('A.2_Bmax', 30, 350)\n",
      "RealParameter('A.2_pfail', 0, 1)\n",
      "CategoricalParameter('A.2_Brate', [0, 1, 2])\n",
      "RealParameter('A.3_Bmax', 30, 350)\n",
      "RealParameter('A.3_pfail', 0, 1)\n",
      "CategoricalParameter('A.3_Brate', [0, 1, 2])\n",
      "RealParameter('A.4_Bmax', 30, 350)\n",
      "RealParameter('A.4_pfail', 0, 1)\n",
      "CategoricalParameter('A.4_Brate', [0, 1, 2])\n",
      "RealParameter('A.5_Bmax', 30, 350)\n",
      "RealParameter('A.5_pfail', 0, 1)\n",
      "CategoricalParameter('A.5_Brate', [0, 1, 2])\n"
     ]
    }
   ],
   "source": [
    "for uncertainties in dike_model.uncertainties:\n",
    "    print(repr(uncertainties))"
   ]
  },
  {
   "cell_type": "code",
   "execution_count": 9,
   "metadata": {},
   "outputs": [],
   "source": [
    "default_uncertainties = {'Bmax': 175, 'Brate': 1.5, 'pfail': 0.5,\n",
    "                         'discount rate': 3.5,\n",
    "                         'ID flood wave shape': 4}\n",
    "\n",
    "ref_uncertainties = {}\n",
    "\n",
    "for key in dike_model.uncertainties:\n",
    "    if '_' in key.name:\n",
    "        _, s = key.name.split('_')\n",
    "    else:\n",
    "        s, _ = key.name.rsplit(' ', 1)\n",
    "    ref_uncertainties.update({key.name: default_uncertainties[s]})\n",
    "ref_uncertainties = Scenario('reference', **ref_uncertainties)"
   ]
  },
  {
   "cell_type": "code",
   "execution_count": 10,
   "metadata": {},
   "outputs": [],
   "source": [
    "n_scenarios = 1000\n",
    "\n",
    "espilon = [1e2, 1e2, 1]\n",
    "\n",
    "convergence_metrics = [HyperVolume(minimum=[0,0,0], maximum=[5e6, 2e9, 1]),\n",
    "                       EpsilonProgress()]"
   ]
  },
  {
   "cell_type": "code",
   "execution_count": 11,
   "metadata": {},
   "outputs": [
    {
     "name": "stderr",
     "output_type": "stream",
     "text": [
      "[MainProcess/INFO] pool started\n",
      "[MainProcess/INFO] generation 0: 0/1000 nfe\n",
      "[MainProcess/INFO] generation 5: 498/1000 nfe\n",
      "[MainProcess/INFO] generation 10: 997/1000 nfe\n",
      "[MainProcess/INFO] optimization completed, found 5 solutions\n",
      "[MainProcess/INFO] terminating pool\n",
      "[MainProcess/INFO] results saved successfully to C:\\Users\\georg\\OneDrive\\Documents\\GitHub\\MBDM-group-11\\final assignment\\scenario0 1000runs_experiments.tar.gz\n"
     ]
    },
    {
     "name": "stdout",
     "output_type": "stream",
     "text": [
      "Wall time: 7min 56s\n"
     ]
    }
   ],
   "source": [
    "%%time\n",
    " \n",
    "with MultiprocessingEvaluator(dike_model) as evaluator:\n",
    "    results = evaluator.optimize(nfe=n_scenarios, \n",
    "                                 searchover='levers',\n",
    "                                 epsilons=espilon,\n",
    "                                 convergence=convergence_metrics,\n",
    "                                 reference=ref_uncertainties)\n",
    "\n",
    "save_results(results, \"scenario0 1000runs_experiments.tar.gz\")"
   ]
  },
  {
   "cell_type": "markdown",
   "metadata": {},
   "source": [
    "## Analysis"
   ]
  },
  {
   "cell_type": "code",
   "execution_count": 3,
   "metadata": {},
   "outputs": [
    {
     "name": "stderr",
     "output_type": "stream",
     "text": [
      "[MainProcess/INFO] results loaded succesfully from C:\\Users\\georg\\OneDrive\\Documents\\GitHub\\MBDM-group-11\\final assignment\\scenario0 1000runs_experiments.tar.gz\n"
     ]
    }
   ],
   "source": [
    "results = load_results(\".\\scenario0 1000runs_experiments.tar.gz\")\n",
    "\n",
    "outcomes, convergence = results"
   ]
  },
  {
   "cell_type": "code",
   "execution_count": 4,
   "metadata": {},
   "outputs": [
    {
     "data": {
      "text/html": [
       "<div>\n",
       "<style scoped>\n",
       "    .dataframe tbody tr th:only-of-type {\n",
       "        vertical-align: middle;\n",
       "    }\n",
       "\n",
       "    .dataframe tbody tr th {\n",
       "        vertical-align: top;\n",
       "    }\n",
       "\n",
       "    .dataframe thead th {\n",
       "        text-align: right;\n",
       "    }\n",
       "</style>\n",
       "<table border=\"1\" class=\"dataframe\">\n",
       "  <thead>\n",
       "    <tr style=\"text-align: right;\">\n",
       "      <th></th>\n",
       "      <th>0_RfR 0</th>\n",
       "      <th>0_RfR 1</th>\n",
       "      <th>0_RfR 2</th>\n",
       "      <th>1_RfR 0</th>\n",
       "      <th>1_RfR 1</th>\n",
       "      <th>1_RfR 2</th>\n",
       "      <th>2_RfR 0</th>\n",
       "      <th>2_RfR 1</th>\n",
       "      <th>2_RfR 2</th>\n",
       "      <th>3_RfR 0</th>\n",
       "      <th>...</th>\n",
       "      <th>A.3_DikeIncrease 2</th>\n",
       "      <th>A.4_DikeIncrease 0</th>\n",
       "      <th>A.4_DikeIncrease 1</th>\n",
       "      <th>A.4_DikeIncrease 2</th>\n",
       "      <th>A.5_DikeIncrease 0</th>\n",
       "      <th>A.5_DikeIncrease 1</th>\n",
       "      <th>A.5_DikeIncrease 2</th>\n",
       "      <th>Expected Annual Damage</th>\n",
       "      <th>Total Investment Costs</th>\n",
       "      <th>Expected Number of Deaths</th>\n",
       "    </tr>\n",
       "  </thead>\n",
       "  <tbody>\n",
       "    <tr>\n",
       "      <th>0</th>\n",
       "      <td>0</td>\n",
       "      <td>0</td>\n",
       "      <td>0</td>\n",
       "      <td>0</td>\n",
       "      <td>0</td>\n",
       "      <td>0</td>\n",
       "      <td>0</td>\n",
       "      <td>0</td>\n",
       "      <td>0</td>\n",
       "      <td>0</td>\n",
       "      <td>...</td>\n",
       "      <td>7</td>\n",
       "      <td>4</td>\n",
       "      <td>5</td>\n",
       "      <td>2</td>\n",
       "      <td>7</td>\n",
       "      <td>4</td>\n",
       "      <td>2</td>\n",
       "      <td>1.579645e+07</td>\n",
       "      <td>3.958391e+08</td>\n",
       "      <td>0.013909</td>\n",
       "    </tr>\n",
       "    <tr>\n",
       "      <th>1</th>\n",
       "      <td>0</td>\n",
       "      <td>0</td>\n",
       "      <td>0</td>\n",
       "      <td>0</td>\n",
       "      <td>0</td>\n",
       "      <td>0</td>\n",
       "      <td>0</td>\n",
       "      <td>0</td>\n",
       "      <td>0</td>\n",
       "      <td>0</td>\n",
       "      <td>...</td>\n",
       "      <td>4</td>\n",
       "      <td>8</td>\n",
       "      <td>9</td>\n",
       "      <td>5</td>\n",
       "      <td>6</td>\n",
       "      <td>6</td>\n",
       "      <td>2</td>\n",
       "      <td>0.000000e+00</td>\n",
       "      <td>4.137517e+08</td>\n",
       "      <td>0.000000</td>\n",
       "    </tr>\n",
       "    <tr>\n",
       "      <th>2</th>\n",
       "      <td>0</td>\n",
       "      <td>0</td>\n",
       "      <td>0</td>\n",
       "      <td>0</td>\n",
       "      <td>0</td>\n",
       "      <td>0</td>\n",
       "      <td>0</td>\n",
       "      <td>0</td>\n",
       "      <td>1</td>\n",
       "      <td>0</td>\n",
       "      <td>...</td>\n",
       "      <td>7</td>\n",
       "      <td>0</td>\n",
       "      <td>9</td>\n",
       "      <td>1</td>\n",
       "      <td>5</td>\n",
       "      <td>4</td>\n",
       "      <td>2</td>\n",
       "      <td>5.220908e+07</td>\n",
       "      <td>3.119361e+08</td>\n",
       "      <td>0.006221</td>\n",
       "    </tr>\n",
       "    <tr>\n",
       "      <th>3</th>\n",
       "      <td>0</td>\n",
       "      <td>0</td>\n",
       "      <td>0</td>\n",
       "      <td>0</td>\n",
       "      <td>0</td>\n",
       "      <td>0</td>\n",
       "      <td>1</td>\n",
       "      <td>1</td>\n",
       "      <td>1</td>\n",
       "      <td>0</td>\n",
       "      <td>...</td>\n",
       "      <td>9</td>\n",
       "      <td>7</td>\n",
       "      <td>5</td>\n",
       "      <td>0</td>\n",
       "      <td>6</td>\n",
       "      <td>0</td>\n",
       "      <td>6</td>\n",
       "      <td>2.445381e+07</td>\n",
       "      <td>3.477181e+08</td>\n",
       "      <td>0.002611</td>\n",
       "    </tr>\n",
       "    <tr>\n",
       "      <th>4</th>\n",
       "      <td>0</td>\n",
       "      <td>0</td>\n",
       "      <td>0</td>\n",
       "      <td>0</td>\n",
       "      <td>0</td>\n",
       "      <td>0</td>\n",
       "      <td>1</td>\n",
       "      <td>0</td>\n",
       "      <td>0</td>\n",
       "      <td>0</td>\n",
       "      <td>...</td>\n",
       "      <td>9</td>\n",
       "      <td>5</td>\n",
       "      <td>5</td>\n",
       "      <td>5</td>\n",
       "      <td>5</td>\n",
       "      <td>3</td>\n",
       "      <td>2</td>\n",
       "      <td>7.785843e+05</td>\n",
       "      <td>4.044091e+08</td>\n",
       "      <td>0.000338</td>\n",
       "    </tr>\n",
       "  </tbody>\n",
       "</table>\n",
       "<p>5 rows × 34 columns</p>\n",
       "</div>"
      ],
      "text/plain": [
       "   0_RfR 0  0_RfR 1  0_RfR 2  1_RfR 0  1_RfR 1  1_RfR 2  2_RfR 0  2_RfR 1  \\\n",
       "0        0        0        0        0        0        0        0        0   \n",
       "1        0        0        0        0        0        0        0        0   \n",
       "2        0        0        0        0        0        0        0        0   \n",
       "3        0        0        0        0        0        0        1        1   \n",
       "4        0        0        0        0        0        0        1        0   \n",
       "\n",
       "   2_RfR 2  3_RfR 0  ...  A.3_DikeIncrease 2  A.4_DikeIncrease 0  \\\n",
       "0        0        0  ...                   7                   4   \n",
       "1        0        0  ...                   4                   8   \n",
       "2        1        0  ...                   7                   0   \n",
       "3        1        0  ...                   9                   7   \n",
       "4        0        0  ...                   9                   5   \n",
       "\n",
       "   A.4_DikeIncrease 1  A.4_DikeIncrease 2  A.5_DikeIncrease 0  \\\n",
       "0                   5                   2                   7   \n",
       "1                   9                   5                   6   \n",
       "2                   9                   1                   5   \n",
       "3                   5                   0                   6   \n",
       "4                   5                   5                   5   \n",
       "\n",
       "   A.5_DikeIncrease 1  A.5_DikeIncrease 2  Expected Annual Damage  \\\n",
       "0                   4                   2            1.579645e+07   \n",
       "1                   6                   2            0.000000e+00   \n",
       "2                   4                   2            5.220908e+07   \n",
       "3                   0                   6            2.445381e+07   \n",
       "4                   3                   2            7.785843e+05   \n",
       "\n",
       "   Total Investment Costs  Expected Number of Deaths  \n",
       "0            3.958391e+08                   0.013909  \n",
       "1            4.137517e+08                   0.000000  \n",
       "2            3.119361e+08                   0.006221  \n",
       "3            3.477181e+08                   0.002611  \n",
       "4            4.044091e+08                   0.000338  \n",
       "\n",
       "[5 rows x 34 columns]"
      ]
     },
     "execution_count": 4,
     "metadata": {},
     "output_type": "execute_result"
    }
   ],
   "source": [
    "outcomes"
   ]
  },
  {
   "cell_type": "code",
   "execution_count": 12,
   "metadata": {},
   "outputs": [
    {
     "data": {
      "text/plain": [
       "Text(0.5,0,'number of function evaluations')"
      ]
     },
     "execution_count": 12,
     "metadata": {},
     "output_type": "execute_result"
    },
    {
     "data": {
      "image/png": "[encoded data removed]",
      "text/plain": [
       "<Figure size 576x288 with 2 Axes>"
      ]
     },
     "metadata": {
      "needs_background": "light"
     },
     "output_type": "display_data"
    }
   ],
   "source": [
    "fig, (ax1, ax2) = plt.subplots(ncols=2, sharex=True, figsize=(8,4))\n",
    "ax1.plot(convergence['nfe'], convergence['epsilon_progress'])\n",
    "ax1.set_ylabel('$\\epsilon$-progress')\n",
    "ax2.plot(convergence['nfe'], convergence['hypervolume'])\n",
    "ax2.set_ylabel('hypervolume')\n",
    "\n",
    "ax1.set_xlabel('number of function evaluations')\n",
    "ax2.set_xlabel('number of function evaluations')"
   ]
  },
  {
   "cell_type": "code",
   "execution_count": 15,
   "metadata": {},
   "outputs": [
    {
     "data": {
      "image/png": "[encoded data removed]",
      "text/plain": [
       "<Figure size 432x288 with 2 Axes>"
      ]
     },
     "metadata": {},
     "output_type": "display_data"
    }
   ],
   "source": [
    "data = outcomes.loc[:, [o.name for o in dike_model.outcomes]]\n",
    "limits = parcoords.get_limits(data)\n",
    "\n",
    "paraxes = parcoords.ParallelAxes(limits)\n",
    "paraxes.plot(data)"
   ]
  }
 ],
 "metadata": {
  "kernelspec": {
   "display_name": "Python 3",
   "language": "python",
   "name": "python3"
  },
  "language_info": {
   "codemirror_mode": {
    "name": "ipython",
    "version": 3
   },
   "file_extension": ".py",
   "mimetype": "text/x-python",
   "name": "python",
   "nbconvert_exporter": "python",
   "pygments_lexer": "ipython3",
   "version": "3.6.5"
  }
 },
 "nbformat": 4,
 "nbformat_minor": 2
}
